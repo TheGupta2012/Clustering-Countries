{
 "cells": [
  {
   "cell_type": "markdown",
   "metadata": {},
   "source": [
    "# Clustering Countries \n",
    "### - OBJECTIVE\n",
    "- To categorise countries using socio-eonomic and health factors that determine the overall development of the country\n",
    "- Then, based upon the countries which have been categorised figure out the countries that are in **need of health and socio - economic help.**"
   ]
  },
  {
   "cell_type": "code",
   "execution_count": 183,
   "metadata": {
    "ExecuteTime": {
     "end_time": "2021-11-29T06:49:27.349038Z",
     "start_time": "2021-11-29T06:49:27.344669Z"
    }
   },
   "outputs": [],
   "source": [
    "%matplotlib inline"
   ]
  },
  {
   "cell_type": "code",
   "execution_count": 184,
   "metadata": {
    "ExecuteTime": {
     "end_time": "2021-11-29T06:49:27.454738Z",
     "start_time": "2021-11-29T06:49:27.351217Z"
    }
   },
   "outputs": [],
   "source": [
    "import pandas as pd\n",
    "import numpy as np\n",
    "import math\n",
    "from IPython.display import Image\n",
    "import seaborn as sns\n",
    "import matplotlib.pyplot as plt"
   ]
  },
  {
   "cell_type": "code",
   "execution_count": 185,
   "metadata": {
    "ExecuteTime": {
     "end_time": "2021-11-29T06:49:27.553083Z",
     "start_time": "2021-11-29T06:49:27.456650Z"
    }
   },
   "outputs": [],
   "source": [
    "pd.set_option('display.max_colwidth', None)"
   ]
  },
  {
   "cell_type": "code",
   "execution_count": 186,
   "metadata": {
    "ExecuteTime": {
     "end_time": "2021-11-29T06:49:27.654246Z",
     "start_time": "2021-11-29T06:49:27.554795Z"
    }
   },
   "outputs": [],
   "source": [
    "df_raw = pd.read_csv(r\"Country-data.csv\")"
   ]
  },
  {
   "cell_type": "code",
   "execution_count": 187,
   "metadata": {
    "ExecuteTime": {
     "end_time": "2021-11-29T06:49:27.764264Z",
     "start_time": "2021-11-29T06:49:27.656048Z"
    }
   },
   "outputs": [
    {
     "data": {
      "text/html": [
       "<div>\n",
       "<style scoped>\n",
       "    .dataframe tbody tr th:only-of-type {\n",
       "        vertical-align: middle;\n",
       "    }\n",
       "\n",
       "    .dataframe tbody tr th {\n",
       "        vertical-align: top;\n",
       "    }\n",
       "\n",
       "    .dataframe thead th {\n",
       "        text-align: right;\n",
       "    }\n",
       "</style>\n",
       "<table border=\"1\" class=\"dataframe\">\n",
       "  <thead>\n",
       "    <tr style=\"text-align: right;\">\n",
       "      <th></th>\n",
       "      <th>country</th>\n",
       "      <th>child_mort</th>\n",
       "      <th>exports</th>\n",
       "      <th>health</th>\n",
       "      <th>imports</th>\n",
       "      <th>income</th>\n",
       "      <th>inflation</th>\n",
       "      <th>life_expec</th>\n",
       "      <th>total_fer</th>\n",
       "      <th>gdpp</th>\n",
       "    </tr>\n",
       "  </thead>\n",
       "  <tbody>\n",
       "    <tr>\n",
       "      <th>0</th>\n",
       "      <td>Afghanistan</td>\n",
       "      <td>90.2</td>\n",
       "      <td>10.0</td>\n",
       "      <td>7.58</td>\n",
       "      <td>44.9</td>\n",
       "      <td>1610</td>\n",
       "      <td>9.44</td>\n",
       "      <td>56.2</td>\n",
       "      <td>5.82</td>\n",
       "      <td>553</td>\n",
       "    </tr>\n",
       "    <tr>\n",
       "      <th>1</th>\n",
       "      <td>Albania</td>\n",
       "      <td>16.6</td>\n",
       "      <td>28.0</td>\n",
       "      <td>6.55</td>\n",
       "      <td>48.6</td>\n",
       "      <td>9930</td>\n",
       "      <td>4.49</td>\n",
       "      <td>76.3</td>\n",
       "      <td>1.65</td>\n",
       "      <td>4090</td>\n",
       "    </tr>\n",
       "    <tr>\n",
       "      <th>2</th>\n",
       "      <td>Algeria</td>\n",
       "      <td>27.3</td>\n",
       "      <td>38.4</td>\n",
       "      <td>4.17</td>\n",
       "      <td>31.4</td>\n",
       "      <td>12900</td>\n",
       "      <td>16.10</td>\n",
       "      <td>76.5</td>\n",
       "      <td>2.89</td>\n",
       "      <td>4460</td>\n",
       "    </tr>\n",
       "    <tr>\n",
       "      <th>3</th>\n",
       "      <td>Angola</td>\n",
       "      <td>119.0</td>\n",
       "      <td>62.3</td>\n",
       "      <td>2.85</td>\n",
       "      <td>42.9</td>\n",
       "      <td>5900</td>\n",
       "      <td>22.40</td>\n",
       "      <td>60.1</td>\n",
       "      <td>6.16</td>\n",
       "      <td>3530</td>\n",
       "    </tr>\n",
       "    <tr>\n",
       "      <th>4</th>\n",
       "      <td>Antigua and Barbuda</td>\n",
       "      <td>10.3</td>\n",
       "      <td>45.5</td>\n",
       "      <td>6.03</td>\n",
       "      <td>58.9</td>\n",
       "      <td>19100</td>\n",
       "      <td>1.44</td>\n",
       "      <td>76.8</td>\n",
       "      <td>2.13</td>\n",
       "      <td>12200</td>\n",
       "    </tr>\n",
       "    <tr>\n",
       "      <th>...</th>\n",
       "      <td>...</td>\n",
       "      <td>...</td>\n",
       "      <td>...</td>\n",
       "      <td>...</td>\n",
       "      <td>...</td>\n",
       "      <td>...</td>\n",
       "      <td>...</td>\n",
       "      <td>...</td>\n",
       "      <td>...</td>\n",
       "      <td>...</td>\n",
       "    </tr>\n",
       "    <tr>\n",
       "      <th>162</th>\n",
       "      <td>Vanuatu</td>\n",
       "      <td>29.2</td>\n",
       "      <td>46.6</td>\n",
       "      <td>5.25</td>\n",
       "      <td>52.7</td>\n",
       "      <td>2950</td>\n",
       "      <td>2.62</td>\n",
       "      <td>63.0</td>\n",
       "      <td>3.50</td>\n",
       "      <td>2970</td>\n",
       "    </tr>\n",
       "    <tr>\n",
       "      <th>163</th>\n",
       "      <td>Venezuela</td>\n",
       "      <td>17.1</td>\n",
       "      <td>28.5</td>\n",
       "      <td>4.91</td>\n",
       "      <td>17.6</td>\n",
       "      <td>16500</td>\n",
       "      <td>45.90</td>\n",
       "      <td>75.4</td>\n",
       "      <td>2.47</td>\n",
       "      <td>13500</td>\n",
       "    </tr>\n",
       "    <tr>\n",
       "      <th>164</th>\n",
       "      <td>Vietnam</td>\n",
       "      <td>23.3</td>\n",
       "      <td>72.0</td>\n",
       "      <td>6.84</td>\n",
       "      <td>80.2</td>\n",
       "      <td>4490</td>\n",
       "      <td>12.10</td>\n",
       "      <td>73.1</td>\n",
       "      <td>1.95</td>\n",
       "      <td>1310</td>\n",
       "    </tr>\n",
       "    <tr>\n",
       "      <th>165</th>\n",
       "      <td>Yemen</td>\n",
       "      <td>56.3</td>\n",
       "      <td>30.0</td>\n",
       "      <td>5.18</td>\n",
       "      <td>34.4</td>\n",
       "      <td>4480</td>\n",
       "      <td>23.60</td>\n",
       "      <td>67.5</td>\n",
       "      <td>4.67</td>\n",
       "      <td>1310</td>\n",
       "    </tr>\n",
       "    <tr>\n",
       "      <th>166</th>\n",
       "      <td>Zambia</td>\n",
       "      <td>83.1</td>\n",
       "      <td>37.0</td>\n",
       "      <td>5.89</td>\n",
       "      <td>30.9</td>\n",
       "      <td>3280</td>\n",
       "      <td>14.00</td>\n",
       "      <td>52.0</td>\n",
       "      <td>5.40</td>\n",
       "      <td>1460</td>\n",
       "    </tr>\n",
       "  </tbody>\n",
       "</table>\n",
       "<p>167 rows × 10 columns</p>\n",
       "</div>"
      ],
      "text/plain": [
       "                 country  child_mort  exports  health  imports  income  \\\n",
       "0            Afghanistan        90.2     10.0    7.58     44.9    1610   \n",
       "1                Albania        16.6     28.0    6.55     48.6    9930   \n",
       "2                Algeria        27.3     38.4    4.17     31.4   12900   \n",
       "3                 Angola       119.0     62.3    2.85     42.9    5900   \n",
       "4    Antigua and Barbuda        10.3     45.5    6.03     58.9   19100   \n",
       "..                   ...         ...      ...     ...      ...     ...   \n",
       "162              Vanuatu        29.2     46.6    5.25     52.7    2950   \n",
       "163            Venezuela        17.1     28.5    4.91     17.6   16500   \n",
       "164              Vietnam        23.3     72.0    6.84     80.2    4490   \n",
       "165                Yemen        56.3     30.0    5.18     34.4    4480   \n",
       "166               Zambia        83.1     37.0    5.89     30.9    3280   \n",
       "\n",
       "     inflation  life_expec  total_fer   gdpp  \n",
       "0         9.44        56.2       5.82    553  \n",
       "1         4.49        76.3       1.65   4090  \n",
       "2        16.10        76.5       2.89   4460  \n",
       "3        22.40        60.1       6.16   3530  \n",
       "4         1.44        76.8       2.13  12200  \n",
       "..         ...         ...        ...    ...  \n",
       "162       2.62        63.0       3.50   2970  \n",
       "163      45.90        75.4       2.47  13500  \n",
       "164      12.10        73.1       1.95   1310  \n",
       "165      23.60        67.5       4.67   1310  \n",
       "166      14.00        52.0       5.40   1460  \n",
       "\n",
       "[167 rows x 10 columns]"
      ]
     },
     "execution_count": 187,
     "metadata": {},
     "output_type": "execute_result"
    }
   ],
   "source": [
    "df_raw"
   ]
  },
  {
   "cell_type": "markdown",
   "metadata": {},
   "source": [
    "### The above dataset corresponds to an **unsupervised learning** problem as there is no target feature involved.\n",
    "- The model employed in forming clusters is going to be **K-Means Clustering**.\n",
    "- **'child_mort', 'exports', 'health', 'imports', 'income','inflation', 'life_expec', 'total_fer', 'gdpp'** are all the features that will form the basis of our clusters."
   ]
  },
  {
   "cell_type": "code",
   "execution_count": 188,
   "metadata": {
    "ExecuteTime": {
     "end_time": "2021-11-29T06:49:27.872501Z",
     "start_time": "2021-11-29T06:49:27.766338Z"
    }
   },
   "outputs": [
    {
     "data": {
      "text/plain": [
       "Index(['country', 'child_mort', 'exports', 'health', 'imports', 'income',\n",
       "       'inflation', 'life_expec', 'total_fer', 'gdpp'],\n",
       "      dtype='object')"
      ]
     },
     "execution_count": 188,
     "metadata": {},
     "output_type": "execute_result"
    }
   ],
   "source": [
    "df_raw.columns"
   ]
  },
  {
   "cell_type": "code",
   "execution_count": 189,
   "metadata": {
    "ExecuteTime": {
     "end_time": "2021-11-29T06:49:27.971138Z",
     "start_time": "2021-11-29T06:49:27.874505Z"
    }
   },
   "outputs": [],
   "source": [
    "data_dict = pd.read_csv(r\"data-dictionary.csv\")"
   ]
  },
  {
   "cell_type": "code",
   "execution_count": 190,
   "metadata": {
    "ExecuteTime": {
     "end_time": "2021-11-29T06:49:28.108892Z",
     "start_time": "2021-11-29T06:49:27.973073Z"
    }
   },
   "outputs": [
    {
     "data": {
      "text/html": [
       "<div>\n",
       "<style scoped>\n",
       "    .dataframe tbody tr th:only-of-type {\n",
       "        vertical-align: middle;\n",
       "    }\n",
       "\n",
       "    .dataframe tbody tr th {\n",
       "        vertical-align: top;\n",
       "    }\n",
       "\n",
       "    .dataframe thead th {\n",
       "        text-align: right;\n",
       "    }\n",
       "</style>\n",
       "<table border=\"1\" class=\"dataframe\">\n",
       "  <thead>\n",
       "    <tr style=\"text-align: right;\">\n",
       "      <th></th>\n",
       "      <th>Column Name</th>\n",
       "      <th>Description</th>\n",
       "    </tr>\n",
       "  </thead>\n",
       "  <tbody>\n",
       "    <tr>\n",
       "      <th>0</th>\n",
       "      <td>country</td>\n",
       "      <td>Name of the country</td>\n",
       "    </tr>\n",
       "    <tr>\n",
       "      <th>1</th>\n",
       "      <td>child_mort</td>\n",
       "      <td>Death of children under 5 years of age per 1000 live births</td>\n",
       "    </tr>\n",
       "    <tr>\n",
       "      <th>2</th>\n",
       "      <td>exports</td>\n",
       "      <td>Exports of goods and services per capita. Given as %age of the GDP per capita</td>\n",
       "    </tr>\n",
       "    <tr>\n",
       "      <th>3</th>\n",
       "      <td>health</td>\n",
       "      <td>Total health spending per capita. Given as %age of GDP per capita</td>\n",
       "    </tr>\n",
       "    <tr>\n",
       "      <th>4</th>\n",
       "      <td>imports</td>\n",
       "      <td>Imports of goods and services per capita. Given as %age of the GDP per capita</td>\n",
       "    </tr>\n",
       "    <tr>\n",
       "      <th>5</th>\n",
       "      <td>Income</td>\n",
       "      <td>Net income per person</td>\n",
       "    </tr>\n",
       "    <tr>\n",
       "      <th>6</th>\n",
       "      <td>Inflation</td>\n",
       "      <td>The measurement of the annual growth rate of the Total GDP</td>\n",
       "    </tr>\n",
       "    <tr>\n",
       "      <th>7</th>\n",
       "      <td>life_expec</td>\n",
       "      <td>The average number of years a new born child would live if the current mortality patterns are to remain the same</td>\n",
       "    </tr>\n",
       "    <tr>\n",
       "      <th>8</th>\n",
       "      <td>total_fer</td>\n",
       "      <td>The number of children that would be born to each woman if the current age-fertility rates remain the same.</td>\n",
       "    </tr>\n",
       "    <tr>\n",
       "      <th>9</th>\n",
       "      <td>gdpp</td>\n",
       "      <td>The GDP per capita. Calculated as the Total GDP divided by the total population.</td>\n",
       "    </tr>\n",
       "  </tbody>\n",
       "</table>\n",
       "</div>"
      ],
      "text/plain": [
       "  Column Name  \\\n",
       "0     country   \n",
       "1  child_mort   \n",
       "2     exports   \n",
       "3      health   \n",
       "4     imports   \n",
       "5      Income   \n",
       "6   Inflation   \n",
       "7  life_expec   \n",
       "8   total_fer   \n",
       "9        gdpp   \n",
       "\n",
       "                                                                                                        Description  \n",
       "0                                                                                               Name of the country  \n",
       "1                                                       Death of children under 5 years of age per 1000 live births  \n",
       "2                                     Exports of goods and services per capita. Given as %age of the GDP per capita  \n",
       "3                                                 Total health spending per capita. Given as %age of GDP per capita  \n",
       "4                                     Imports of goods and services per capita. Given as %age of the GDP per capita  \n",
       "5                                                                                             Net income per person  \n",
       "6                                                        The measurement of the annual growth rate of the Total GDP  \n",
       "7  The average number of years a new born child would live if the current mortality patterns are to remain the same  \n",
       "8       The number of children that would be born to each woman if the current age-fertility rates remain the same.  \n",
       "9                                  The GDP per capita. Calculated as the Total GDP divided by the total population.  "
      ]
     },
     "execution_count": 190,
     "metadata": {},
     "output_type": "execute_result"
    }
   ],
   "source": [
    "data_dict"
   ]
  },
  {
   "cell_type": "code",
   "execution_count": 191,
   "metadata": {
    "ExecuteTime": {
     "end_time": "2021-11-29T06:49:28.238637Z",
     "start_time": "2021-11-29T06:49:28.110454Z"
    }
   },
   "outputs": [
    {
     "data": {
      "text/html": [
       "<div>\n",
       "<style scoped>\n",
       "    .dataframe tbody tr th:only-of-type {\n",
       "        vertical-align: middle;\n",
       "    }\n",
       "\n",
       "    .dataframe tbody tr th {\n",
       "        vertical-align: top;\n",
       "    }\n",
       "\n",
       "    .dataframe thead th {\n",
       "        text-align: right;\n",
       "    }\n",
       "</style>\n",
       "<table border=\"1\" class=\"dataframe\">\n",
       "  <thead>\n",
       "    <tr style=\"text-align: right;\">\n",
       "      <th></th>\n",
       "      <th>child_mort</th>\n",
       "      <th>exports</th>\n",
       "      <th>health</th>\n",
       "      <th>imports</th>\n",
       "      <th>income</th>\n",
       "      <th>inflation</th>\n",
       "      <th>life_expec</th>\n",
       "      <th>total_fer</th>\n",
       "      <th>gdpp</th>\n",
       "    </tr>\n",
       "  </thead>\n",
       "  <tbody>\n",
       "    <tr>\n",
       "      <th>count</th>\n",
       "      <td>167.000000</td>\n",
       "      <td>167.000000</td>\n",
       "      <td>167.000000</td>\n",
       "      <td>167.000000</td>\n",
       "      <td>167.000000</td>\n",
       "      <td>167.000000</td>\n",
       "      <td>167.000000</td>\n",
       "      <td>167.000000</td>\n",
       "      <td>167.000000</td>\n",
       "    </tr>\n",
       "    <tr>\n",
       "      <th>mean</th>\n",
       "      <td>38.270060</td>\n",
       "      <td>41.108976</td>\n",
       "      <td>6.815689</td>\n",
       "      <td>46.890215</td>\n",
       "      <td>17144.688623</td>\n",
       "      <td>7.781832</td>\n",
       "      <td>70.555689</td>\n",
       "      <td>2.947964</td>\n",
       "      <td>12964.155689</td>\n",
       "    </tr>\n",
       "    <tr>\n",
       "      <th>std</th>\n",
       "      <td>40.328931</td>\n",
       "      <td>27.412010</td>\n",
       "      <td>2.746837</td>\n",
       "      <td>24.209589</td>\n",
       "      <td>19278.067698</td>\n",
       "      <td>10.570704</td>\n",
       "      <td>8.893172</td>\n",
       "      <td>1.513848</td>\n",
       "      <td>18328.704809</td>\n",
       "    </tr>\n",
       "    <tr>\n",
       "      <th>min</th>\n",
       "      <td>2.600000</td>\n",
       "      <td>0.109000</td>\n",
       "      <td>1.810000</td>\n",
       "      <td>0.065900</td>\n",
       "      <td>609.000000</td>\n",
       "      <td>-4.210000</td>\n",
       "      <td>32.100000</td>\n",
       "      <td>1.150000</td>\n",
       "      <td>231.000000</td>\n",
       "    </tr>\n",
       "    <tr>\n",
       "      <th>25%</th>\n",
       "      <td>8.250000</td>\n",
       "      <td>23.800000</td>\n",
       "      <td>4.920000</td>\n",
       "      <td>30.200000</td>\n",
       "      <td>3355.000000</td>\n",
       "      <td>1.810000</td>\n",
       "      <td>65.300000</td>\n",
       "      <td>1.795000</td>\n",
       "      <td>1330.000000</td>\n",
       "    </tr>\n",
       "    <tr>\n",
       "      <th>50%</th>\n",
       "      <td>19.300000</td>\n",
       "      <td>35.000000</td>\n",
       "      <td>6.320000</td>\n",
       "      <td>43.300000</td>\n",
       "      <td>9960.000000</td>\n",
       "      <td>5.390000</td>\n",
       "      <td>73.100000</td>\n",
       "      <td>2.410000</td>\n",
       "      <td>4660.000000</td>\n",
       "    </tr>\n",
       "    <tr>\n",
       "      <th>75%</th>\n",
       "      <td>62.100000</td>\n",
       "      <td>51.350000</td>\n",
       "      <td>8.600000</td>\n",
       "      <td>58.750000</td>\n",
       "      <td>22800.000000</td>\n",
       "      <td>10.750000</td>\n",
       "      <td>76.800000</td>\n",
       "      <td>3.880000</td>\n",
       "      <td>14050.000000</td>\n",
       "    </tr>\n",
       "    <tr>\n",
       "      <th>max</th>\n",
       "      <td>208.000000</td>\n",
       "      <td>200.000000</td>\n",
       "      <td>17.900000</td>\n",
       "      <td>174.000000</td>\n",
       "      <td>125000.000000</td>\n",
       "      <td>104.000000</td>\n",
       "      <td>82.800000</td>\n",
       "      <td>7.490000</td>\n",
       "      <td>105000.000000</td>\n",
       "    </tr>\n",
       "  </tbody>\n",
       "</table>\n",
       "</div>"
      ],
      "text/plain": [
       "       child_mort     exports      health     imports         income  \\\n",
       "count  167.000000  167.000000  167.000000  167.000000     167.000000   \n",
       "mean    38.270060   41.108976    6.815689   46.890215   17144.688623   \n",
       "std     40.328931   27.412010    2.746837   24.209589   19278.067698   \n",
       "min      2.600000    0.109000    1.810000    0.065900     609.000000   \n",
       "25%      8.250000   23.800000    4.920000   30.200000    3355.000000   \n",
       "50%     19.300000   35.000000    6.320000   43.300000    9960.000000   \n",
       "75%     62.100000   51.350000    8.600000   58.750000   22800.000000   \n",
       "max    208.000000  200.000000   17.900000  174.000000  125000.000000   \n",
       "\n",
       "        inflation  life_expec   total_fer           gdpp  \n",
       "count  167.000000  167.000000  167.000000     167.000000  \n",
       "mean     7.781832   70.555689    2.947964   12964.155689  \n",
       "std     10.570704    8.893172    1.513848   18328.704809  \n",
       "min     -4.210000   32.100000    1.150000     231.000000  \n",
       "25%      1.810000   65.300000    1.795000    1330.000000  \n",
       "50%      5.390000   73.100000    2.410000    4660.000000  \n",
       "75%     10.750000   76.800000    3.880000   14050.000000  \n",
       "max    104.000000   82.800000    7.490000  105000.000000  "
      ]
     },
     "execution_count": 191,
     "metadata": {},
     "output_type": "execute_result"
    }
   ],
   "source": [
    "df_raw.describe()"
   ]
  },
  {
   "cell_type": "code",
   "execution_count": 192,
   "metadata": {
    "ExecuteTime": {
     "end_time": "2021-11-29T06:49:28.404566Z",
     "start_time": "2021-11-29T06:49:28.240200Z"
    }
   },
   "outputs": [
    {
     "data": {
      "text/html": [
       "<div>\n",
       "<style scoped>\n",
       "    .dataframe tbody tr th:only-of-type {\n",
       "        vertical-align: middle;\n",
       "    }\n",
       "\n",
       "    .dataframe tbody tr th {\n",
       "        vertical-align: top;\n",
       "    }\n",
       "\n",
       "    .dataframe thead th {\n",
       "        text-align: right;\n",
       "    }\n",
       "</style>\n",
       "<table border=\"1\" class=\"dataframe\">\n",
       "  <thead>\n",
       "    <tr style=\"text-align: right;\">\n",
       "      <th></th>\n",
       "      <th>child_mort</th>\n",
       "      <th>exports</th>\n",
       "      <th>health</th>\n",
       "      <th>imports</th>\n",
       "      <th>income</th>\n",
       "      <th>inflation</th>\n",
       "      <th>life_expec</th>\n",
       "      <th>total_fer</th>\n",
       "      <th>gdpp</th>\n",
       "    </tr>\n",
       "  </thead>\n",
       "  <tbody>\n",
       "    <tr>\n",
       "      <th>child_mort</th>\n",
       "      <td>1.000000</td>\n",
       "      <td>-0.318093</td>\n",
       "      <td>-0.200402</td>\n",
       "      <td>-0.127211</td>\n",
       "      <td>-0.524315</td>\n",
       "      <td>0.288276</td>\n",
       "      <td>-0.886676</td>\n",
       "      <td>0.848478</td>\n",
       "      <td>-0.483032</td>\n",
       "    </tr>\n",
       "    <tr>\n",
       "      <th>exports</th>\n",
       "      <td>-0.318093</td>\n",
       "      <td>1.000000</td>\n",
       "      <td>-0.114408</td>\n",
       "      <td>0.737381</td>\n",
       "      <td>0.516784</td>\n",
       "      <td>-0.107294</td>\n",
       "      <td>0.316313</td>\n",
       "      <td>-0.320011</td>\n",
       "      <td>0.418725</td>\n",
       "    </tr>\n",
       "    <tr>\n",
       "      <th>health</th>\n",
       "      <td>-0.200402</td>\n",
       "      <td>-0.114408</td>\n",
       "      <td>1.000000</td>\n",
       "      <td>0.095717</td>\n",
       "      <td>0.129579</td>\n",
       "      <td>-0.255376</td>\n",
       "      <td>0.210692</td>\n",
       "      <td>-0.196674</td>\n",
       "      <td>0.345966</td>\n",
       "    </tr>\n",
       "    <tr>\n",
       "      <th>imports</th>\n",
       "      <td>-0.127211</td>\n",
       "      <td>0.737381</td>\n",
       "      <td>0.095717</td>\n",
       "      <td>1.000000</td>\n",
       "      <td>0.122406</td>\n",
       "      <td>-0.246994</td>\n",
       "      <td>0.054391</td>\n",
       "      <td>-0.159048</td>\n",
       "      <td>0.115498</td>\n",
       "    </tr>\n",
       "    <tr>\n",
       "      <th>income</th>\n",
       "      <td>-0.524315</td>\n",
       "      <td>0.516784</td>\n",
       "      <td>0.129579</td>\n",
       "      <td>0.122406</td>\n",
       "      <td>1.000000</td>\n",
       "      <td>-0.147756</td>\n",
       "      <td>0.611962</td>\n",
       "      <td>-0.501840</td>\n",
       "      <td>0.895571</td>\n",
       "    </tr>\n",
       "    <tr>\n",
       "      <th>inflation</th>\n",
       "      <td>0.288276</td>\n",
       "      <td>-0.107294</td>\n",
       "      <td>-0.255376</td>\n",
       "      <td>-0.246994</td>\n",
       "      <td>-0.147756</td>\n",
       "      <td>1.000000</td>\n",
       "      <td>-0.239705</td>\n",
       "      <td>0.316921</td>\n",
       "      <td>-0.221631</td>\n",
       "    </tr>\n",
       "    <tr>\n",
       "      <th>life_expec</th>\n",
       "      <td>-0.886676</td>\n",
       "      <td>0.316313</td>\n",
       "      <td>0.210692</td>\n",
       "      <td>0.054391</td>\n",
       "      <td>0.611962</td>\n",
       "      <td>-0.239705</td>\n",
       "      <td>1.000000</td>\n",
       "      <td>-0.760875</td>\n",
       "      <td>0.600089</td>\n",
       "    </tr>\n",
       "    <tr>\n",
       "      <th>total_fer</th>\n",
       "      <td>0.848478</td>\n",
       "      <td>-0.320011</td>\n",
       "      <td>-0.196674</td>\n",
       "      <td>-0.159048</td>\n",
       "      <td>-0.501840</td>\n",
       "      <td>0.316921</td>\n",
       "      <td>-0.760875</td>\n",
       "      <td>1.000000</td>\n",
       "      <td>-0.454910</td>\n",
       "    </tr>\n",
       "    <tr>\n",
       "      <th>gdpp</th>\n",
       "      <td>-0.483032</td>\n",
       "      <td>0.418725</td>\n",
       "      <td>0.345966</td>\n",
       "      <td>0.115498</td>\n",
       "      <td>0.895571</td>\n",
       "      <td>-0.221631</td>\n",
       "      <td>0.600089</td>\n",
       "      <td>-0.454910</td>\n",
       "      <td>1.000000</td>\n",
       "    </tr>\n",
       "  </tbody>\n",
       "</table>\n",
       "</div>"
      ],
      "text/plain": [
       "            child_mort   exports    health   imports    income  inflation  \\\n",
       "child_mort    1.000000 -0.318093 -0.200402 -0.127211 -0.524315   0.288276   \n",
       "exports      -0.318093  1.000000 -0.114408  0.737381  0.516784  -0.107294   \n",
       "health       -0.200402 -0.114408  1.000000  0.095717  0.129579  -0.255376   \n",
       "imports      -0.127211  0.737381  0.095717  1.000000  0.122406  -0.246994   \n",
       "income       -0.524315  0.516784  0.129579  0.122406  1.000000  -0.147756   \n",
       "inflation     0.288276 -0.107294 -0.255376 -0.246994 -0.147756   1.000000   \n",
       "life_expec   -0.886676  0.316313  0.210692  0.054391  0.611962  -0.239705   \n",
       "total_fer     0.848478 -0.320011 -0.196674 -0.159048 -0.501840   0.316921   \n",
       "gdpp         -0.483032  0.418725  0.345966  0.115498  0.895571  -0.221631   \n",
       "\n",
       "            life_expec  total_fer      gdpp  \n",
       "child_mort   -0.886676   0.848478 -0.483032  \n",
       "exports       0.316313  -0.320011  0.418725  \n",
       "health        0.210692  -0.196674  0.345966  \n",
       "imports       0.054391  -0.159048  0.115498  \n",
       "income        0.611962  -0.501840  0.895571  \n",
       "inflation    -0.239705   0.316921 -0.221631  \n",
       "life_expec    1.000000  -0.760875  0.600089  \n",
       "total_fer    -0.760875   1.000000 -0.454910  \n",
       "gdpp          0.600089  -0.454910  1.000000  "
      ]
     },
     "execution_count": 192,
     "metadata": {},
     "output_type": "execute_result"
    }
   ],
   "source": [
    "# pearson coeff of correlation\n",
    "df_raw.corr()"
   ]
  },
  {
   "cell_type": "markdown",
   "metadata": {},
   "source": [
    "# Missing Values"
   ]
  },
  {
   "cell_type": "code",
   "execution_count": 193,
   "metadata": {
    "ExecuteTime": {
     "end_time": "2021-11-29T06:49:28.506827Z",
     "start_time": "2021-11-29T06:49:28.406232Z"
    }
   },
   "outputs": [
    {
     "data": {
      "text/plain": [
       "Index(['country', 'child_mort', 'exports', 'health', 'imports', 'income',\n",
       "       'inflation', 'life_expec', 'total_fer', 'gdpp'],\n",
       "      dtype='object')"
      ]
     },
     "execution_count": 193,
     "metadata": {},
     "output_type": "execute_result"
    }
   ],
   "source": [
    "df_raw.columns"
   ]
  },
  {
   "cell_type": "code",
   "execution_count": 194,
   "metadata": {
    "ExecuteTime": {
     "end_time": "2021-11-29T06:49:28.624825Z",
     "start_time": "2021-11-29T06:49:28.508848Z"
    }
   },
   "outputs": [
    {
     "name": "stdout",
     "output_type": "stream",
     "text": [
      "Missing values for the data set\n",
      "\n",
      "country : 0\n",
      "child_mort : 0\n",
      "exports : 0\n",
      "health : 0\n",
      "imports : 0\n",
      "income : 0\n",
      "inflation : 0\n",
      "life_expec : 0\n",
      "total_fer : 0\n",
      "gdpp : 0\n"
     ]
    }
   ],
   "source": [
    "d = {}  # no of nans, nones, etc.\n",
    "for c in df_raw.columns:\n",
    "    data = df_raw[c]\n",
    "    d[c] = 0\n",
    "    for k in data:\n",
    "        if(k == np.nan or k == None or k == 0):\n",
    "            d[c] = d.get(c, 0)+1\n",
    "print(\"Missing values for the data set\\n\")\n",
    "for i, j in d.items():\n",
    "    print(i, \":\", j)"
   ]
  },
  {
   "cell_type": "markdown",
   "metadata": {},
   "source": [
    "- The above code shows that there are **no missing** values in the given data set.\n",
    "- We can now go further with the analysis of our features of the data set."
   ]
  },
  {
   "cell_type": "markdown",
   "metadata": {},
   "source": [
    "# Analysis\n",
    "- Since the objective of our cluster analysis is to group countries based on their respective develpment rates, a good way to **define development of a country** can be on the basis of **health, income and GDP per capita**.\n",
    "- This is derived from the fact that if the **GDP per capita is high** it inturn means that **exports are high** and **imports are lower**\n",
    "- Also, if the **health expenditure** of a country is high **a drop in mortality rate** is bound to follow.\n",
    "- - Similarly, in a developed country, **GDP per capita is expected to be high** if **fertility rate is high** and **mortality rate is low**"
   ]
  },
  {
   "cell_type": "markdown",
   "metadata": {},
   "source": [
    "## Health and Income"
   ]
  },
  {
   "cell_type": "code",
   "execution_count": 195,
   "metadata": {
    "ExecuteTime": {
     "end_time": "2021-11-29T06:49:28.982166Z",
     "start_time": "2021-11-29T06:49:28.626529Z"
    }
   },
   "outputs": [
    {
     "data": {
      "image/png": "[encoded data removed]",
      "text/plain": [
       "<Figure size 432x288 with 1 Axes>"
      ]
     },
     "metadata": {
      "needs_background": "light"
     },
     "output_type": "display_data"
    }
   ],
   "source": [
    "sns.scatterplot(x=df_raw.income, y=df_raw.health,\n",
    "                hue=df_raw.country, palette='PuBuGn', legend=False, alpha=0.8)\n",
    "plt.grid()\n",
    "plt.xlabel(\"Income per person\", fontsize=14)\n",
    "plt.ylabel(\"Health spending per Capita\", fontsize=14)\n",
    "plt.title(\"Relationship between Health Facilities by Gov.\\n and Income of Person\",\n",
    "          fontweight='bold')\n",
    "plt.savefig(r'EDA scatter Plots/health_and_income.png', dpi=200)"
   ]
  },
  {
   "cell_type": "markdown",
   "metadata": {},
   "source": [
    "- From the above plot it is noted that although a country may have a *lower* health expenditure by the Gov. but if the average income of the country is *high* then they would not be much dependent on the Gov. provided facilities and may look at private options.\n",
    "- Thus a new column **income and health** is created which is formed by multiplying the income of a person with the health expenditure spent per capita and the plot with **GDP per capita** shows an almost linear relationship."
   ]
  },
  {
   "cell_type": "code",
   "execution_count": 196,
   "metadata": {
    "ExecuteTime": {
     "end_time": "2021-11-29T06:49:28.988241Z",
     "start_time": "2021-11-29T06:49:28.984047Z"
    }
   },
   "outputs": [],
   "source": [
    "df_raw['income_and_health'] = df_raw['health']*df_raw['income']"
   ]
  },
  {
   "cell_type": "code",
   "execution_count": 197,
   "metadata": {
    "ExecuteTime": {
     "end_time": "2021-11-29T06:49:29.368368Z",
     "start_time": "2021-11-29T06:49:28.990004Z"
    }
   },
   "outputs": [
    {
     "data": {
      "image/png": "[encoded data removed]",
      "text/plain": [
       "<Figure size 432x288 with 1 Axes>"
      ]
     },
     "metadata": {
      "needs_background": "light"
     },
     "output_type": "display_data"
    }
   ],
   "source": [
    "sns.scatterplot(x=df_raw.income_and_health, y=df_raw.gdpp,\n",
    "                hue=df_raw.country, palette='twilight', legend=False, alpha=0.8)\n",
    "plt.grid()\n",
    "plt.xlabel(\"Income and health in country\", fontsize=14)\n",
    "plt.ylabel(\"GDP per Capita\", fontsize=12, labelpad=-8)\n",
    "plt.title(\"Relationship between GDP per capita\\n and Income and health \",\n",
    "          fontweight='bold')\n",
    "plt.savefig(r'EDA scatter Plots/GDPp_income_health.png', dpi=200)"
   ]
  },
  {
   "cell_type": "markdown",
   "metadata": {},
   "source": [
    "- This means, the variable $income\\times health$ is a good indicator of the development of a country"
   ]
  },
  {
   "cell_type": "markdown",
   "metadata": {},
   "source": [
    "# Child Mortality and Life Expectancy"
   ]
  },
  {
   "cell_type": "code",
   "execution_count": 198,
   "metadata": {
    "ExecuteTime": {
     "end_time": "2021-11-29T06:49:29.657814Z",
     "start_time": "2021-11-29T06:49:29.369883Z"
    }
   },
   "outputs": [
    {
     "data": {
      "image/png": "[encoded data removed]",
      "text/plain": [
       "<Figure size 432x288 with 1 Axes>"
      ]
     },
     "metadata": {
      "needs_background": "light"
     },
     "output_type": "display_data"
    }
   ],
   "source": [
    "sns.scatterplot(x=df_raw.child_mort, y=df_raw.life_expec,\n",
    "                hue=df_raw.country, palette='Accent', legend=False, alpha=0.8)\n",
    "plt.title(\"Relationship of Child Mortality with \\nTotal fertility\",\n",
    "          fontweight='bold')\n",
    "plt.xlabel(\"Child Mortality\", fontsize=14)\n",
    "plt.ylabel(\"Life Expectancy\", fontsize=14)\n",
    "plt.grid()\n",
    "plt.savefig(r'EDA scatter Plots/fert_and_life_expec.png', dpi=200)"
   ]
  },
  {
   "cell_type": "markdown",
   "metadata": {},
   "source": [
    "- This relationship is an unsual negatively correlated relationship which highlights the fact that the **life expectancy is high** when **child mortality is low**, and vice versa.\n",
    "- Moreover, the second graph shows clearly that the mortality rate and the life expectancy **increases** with the increasing health expenditure and increasing income.\n",
    "- So, a better reflection of the country's development and health industry is demonstrated with ia high life expectancy and low child mortality rate. "
   ]
  },
  {
   "cell_type": "code",
   "execution_count": 199,
   "metadata": {
    "ExecuteTime": {
     "end_time": "2021-11-29T06:49:29.668909Z",
     "start_time": "2021-11-29T06:49:29.662939Z"
    }
   },
   "outputs": [],
   "source": [
    "df_raw['expec_by_mortality'] = df_raw['life_expec'] / df_raw['child_mort']"
   ]
  },
  {
   "cell_type": "code",
   "execution_count": 200,
   "metadata": {
    "ExecuteTime": {
     "end_time": "2021-11-29T06:49:30.264801Z",
     "start_time": "2021-11-29T06:49:29.672380Z"
    }
   },
   "outputs": [
    {
     "data": {
      "image/png": "[encoded data removed]",
      "text/plain": [
       "<Figure size 432x288 with 1 Axes>"
      ]
     },
     "metadata": {
      "needs_background": "light"
     },
     "output_type": "display_data"
    }
   ],
   "source": [
    "sns.scatterplot(x=df_raw.gdpp, y=df_raw.expec_by_mortality,\n",
    "                hue=df_raw.country, palette='Accent', legend=0, alpha=0.8)\n",
    "plt.xlabel(\"GDPP\", fontsize=14)\n",
    "plt.ylabel(\"Life expectancy\\n and Mortality rate\", fontsize=12, labelpad=-6)\n",
    "plt.title(\"Relationships between GDPp and \\n expectancy-mortality ratio\",\n",
    "          fontweight='bold')\n",
    "plt.grid()\n",
    "plt.savefig(r'EDA scatter Plots/GDPp_expec_and_mort.png', dpi=200)"
   ]
  },
  {
   "cell_type": "code",
   "execution_count": 201,
   "metadata": {
    "ExecuteTime": {
     "end_time": "2021-11-29T06:49:30.599946Z",
     "start_time": "2021-11-29T06:49:30.267201Z"
    }
   },
   "outputs": [
    {
     "data": {
      "image/png": "[encoded data removed]",
      "text/plain": [
       "<Figure size 432x288 with 1 Axes>"
      ]
     },
     "metadata": {
      "needs_background": "light"
     },
     "output_type": "display_data"
    }
   ],
   "source": [
    "sns.scatterplot(x=df_raw.income_and_health, y=df_raw.expec_by_mortality,\n",
    "                hue=df_raw.country, palette='Accent', legend=0, alpha=0.8)\n",
    "plt.xlabel(\"Income and Health\", fontsize=14)\n",
    "plt.ylabel(\"Life expectancy\\n and Mortality rate\", fontsize=12, labelpad=-6)\n",
    "plt.title(\"Relationships between income, health, \\n expectancy and mortality\",\n",
    "          fontweight='bold')\n",
    "plt.grid()\n",
    "plt.savefig(\n",
    "    r'EDA scatter Plots/income_health_expec_and_mort.png', dpi=200)"
   ]
  },
  {
   "cell_type": "markdown",
   "metadata": {},
   "source": [
    "## Reducing Attributes\n",
    "- (Income, health), (exports,imports) and (total_fertility,child_mortality) attributes are removed\n",
    "- The interaction terms which are relevant to the developments profile of the country have been added"
   ]
  },
  {
   "cell_type": "code",
   "execution_count": 202,
   "metadata": {
    "ExecuteTime": {
     "end_time": "2021-11-29T06:49:30.642533Z",
     "start_time": "2021-11-29T06:49:30.601673Z"
    }
   },
   "outputs": [
    {
     "data": {
      "text/html": [
       "<div>\n",
       "<style scoped>\n",
       "    .dataframe tbody tr th:only-of-type {\n",
       "        vertical-align: middle;\n",
       "    }\n",
       "\n",
       "    .dataframe tbody tr th {\n",
       "        vertical-align: top;\n",
       "    }\n",
       "\n",
       "    .dataframe thead th {\n",
       "        text-align: right;\n",
       "    }\n",
       "</style>\n",
       "<table border=\"1\" class=\"dataframe\">\n",
       "  <thead>\n",
       "    <tr style=\"text-align: right;\">\n",
       "      <th></th>\n",
       "      <th>exports</th>\n",
       "      <th>imports</th>\n",
       "      <th>inflation</th>\n",
       "      <th>total_fer</th>\n",
       "      <th>gdpp</th>\n",
       "      <th>income_and_health</th>\n",
       "      <th>expec_by_mortality</th>\n",
       "    </tr>\n",
       "  </thead>\n",
       "  <tbody>\n",
       "    <tr>\n",
       "      <th>count</th>\n",
       "      <td>167.000000</td>\n",
       "      <td>167.000000</td>\n",
       "      <td>167.000000</td>\n",
       "      <td>167.000000</td>\n",
       "      <td>167.000000</td>\n",
       "      <td>167.000000</td>\n",
       "      <td>167.000000</td>\n",
       "    </tr>\n",
       "    <tr>\n",
       "      <th>mean</th>\n",
       "      <td>41.108976</td>\n",
       "      <td>46.890215</td>\n",
       "      <td>7.781832</td>\n",
       "      <td>2.947964</td>\n",
       "      <td>12964.155689</td>\n",
       "      <td>123673.440419</td>\n",
       "      <td>6.698585</td>\n",
       "    </tr>\n",
       "    <tr>\n",
       "      <th>std</th>\n",
       "      <td>27.412010</td>\n",
       "      <td>24.209589</td>\n",
       "      <td>10.570704</td>\n",
       "      <td>1.513848</td>\n",
       "      <td>18328.704809</td>\n",
       "      <td>154521.492565</td>\n",
       "      <td>7.553877</td>\n",
       "    </tr>\n",
       "    <tr>\n",
       "      <th>min</th>\n",
       "      <td>0.109000</td>\n",
       "      <td>0.065900</td>\n",
       "      <td>-4.210000</td>\n",
       "      <td>1.150000</td>\n",
       "      <td>231.000000</td>\n",
       "      <td>3534.240000</td>\n",
       "      <td>0.154327</td>\n",
       "    </tr>\n",
       "    <tr>\n",
       "      <th>25%</th>\n",
       "      <td>23.800000</td>\n",
       "      <td>30.200000</td>\n",
       "      <td>1.810000</td>\n",
       "      <td>1.795000</td>\n",
       "      <td>1330.000000</td>\n",
       "      <td>17516.400000</td>\n",
       "      <td>1.041848</td>\n",
       "    </tr>\n",
       "    <tr>\n",
       "      <th>50%</th>\n",
       "      <td>35.000000</td>\n",
       "      <td>43.300000</td>\n",
       "      <td>5.390000</td>\n",
       "      <td>2.410000</td>\n",
       "      <td>4660.000000</td>\n",
       "      <td>65041.500000</td>\n",
       "      <td>3.837438</td>\n",
       "    </tr>\n",
       "    <tr>\n",
       "      <th>75%</th>\n",
       "      <td>51.350000</td>\n",
       "      <td>58.750000</td>\n",
       "      <td>10.750000</td>\n",
       "      <td>3.880000</td>\n",
       "      <td>14050.000000</td>\n",
       "      <td>152947.000000</td>\n",
       "      <td>9.231874</td>\n",
       "    </tr>\n",
       "    <tr>\n",
       "      <th>max</th>\n",
       "      <td>200.000000</td>\n",
       "      <td>174.000000</td>\n",
       "      <td>104.000000</td>\n",
       "      <td>7.490000</td>\n",
       "      <td>105000.000000</td>\n",
       "      <td>884260.000000</td>\n",
       "      <td>31.538462</td>\n",
       "    </tr>\n",
       "  </tbody>\n",
       "</table>\n",
       "</div>"
      ],
      "text/plain": [
       "          exports     imports   inflation   total_fer           gdpp  \\\n",
       "count  167.000000  167.000000  167.000000  167.000000     167.000000   \n",
       "mean    41.108976   46.890215    7.781832    2.947964   12964.155689   \n",
       "std     27.412010   24.209589   10.570704    1.513848   18328.704809   \n",
       "min      0.109000    0.065900   -4.210000    1.150000     231.000000   \n",
       "25%     23.800000   30.200000    1.810000    1.795000    1330.000000   \n",
       "50%     35.000000   43.300000    5.390000    2.410000    4660.000000   \n",
       "75%     51.350000   58.750000   10.750000    3.880000   14050.000000   \n",
       "max    200.000000  174.000000  104.000000    7.490000  105000.000000   \n",
       "\n",
       "       income_and_health  expec_by_mortality  \n",
       "count         167.000000          167.000000  \n",
       "mean       123673.440419            6.698585  \n",
       "std        154521.492565            7.553877  \n",
       "min          3534.240000            0.154327  \n",
       "25%         17516.400000            1.041848  \n",
       "50%         65041.500000            3.837438  \n",
       "75%        152947.000000            9.231874  \n",
       "max        884260.000000           31.538462  "
      ]
     },
     "execution_count": 202,
     "metadata": {},
     "output_type": "execute_result"
    }
   ],
   "source": [
    "df_raw = df_raw.drop(['child_mort','life_expec', 'income', 'health'], axis=1)\n",
    "df_raw.describe()"
   ]
  },
  {
   "cell_type": "code",
   "execution_count": 203,
   "metadata": {
    "ExecuteTime": {
     "end_time": "2021-11-29T06:49:30.723389Z",
     "start_time": "2021-11-29T06:49:30.646091Z"
    }
   },
   "outputs": [
    {
     "data": {
      "text/html": [
       "<div>\n",
       "<style scoped>\n",
       "    .dataframe tbody tr th:only-of-type {\n",
       "        vertical-align: middle;\n",
       "    }\n",
       "\n",
       "    .dataframe tbody tr th {\n",
       "        vertical-align: top;\n",
       "    }\n",
       "\n",
       "    .dataframe thead th {\n",
       "        text-align: right;\n",
       "    }\n",
       "</style>\n",
       "<table border=\"1\" class=\"dataframe\">\n",
       "  <thead>\n",
       "    <tr style=\"text-align: right;\">\n",
       "      <th></th>\n",
       "      <th>exports</th>\n",
       "      <th>imports</th>\n",
       "      <th>inflation</th>\n",
       "      <th>total_fer</th>\n",
       "      <th>gdpp</th>\n",
       "      <th>income_and_health</th>\n",
       "      <th>expec_by_mortality</th>\n",
       "    </tr>\n",
       "  </thead>\n",
       "  <tbody>\n",
       "    <tr>\n",
       "      <th>exports</th>\n",
       "      <td>1.000000</td>\n",
       "      <td>0.737381</td>\n",
       "      <td>-0.107294</td>\n",
       "      <td>-0.320011</td>\n",
       "      <td>0.418725</td>\n",
       "      <td>0.335731</td>\n",
       "      <td>0.401795</td>\n",
       "    </tr>\n",
       "    <tr>\n",
       "      <th>imports</th>\n",
       "      <td>0.737381</td>\n",
       "      <td>1.000000</td>\n",
       "      <td>-0.246994</td>\n",
       "      <td>-0.159048</td>\n",
       "      <td>0.115498</td>\n",
       "      <td>0.080558</td>\n",
       "      <td>0.195955</td>\n",
       "    </tr>\n",
       "    <tr>\n",
       "      <th>inflation</th>\n",
       "      <td>-0.107294</td>\n",
       "      <td>-0.246994</td>\n",
       "      <td>1.000000</td>\n",
       "      <td>0.316921</td>\n",
       "      <td>-0.221631</td>\n",
       "      <td>-0.258342</td>\n",
       "      <td>-0.325448</td>\n",
       "    </tr>\n",
       "    <tr>\n",
       "      <th>total_fer</th>\n",
       "      <td>-0.320011</td>\n",
       "      <td>-0.159048</td>\n",
       "      <td>0.316921</td>\n",
       "      <td>1.000000</td>\n",
       "      <td>-0.454910</td>\n",
       "      <td>-0.507023</td>\n",
       "      <td>-0.600884</td>\n",
       "    </tr>\n",
       "    <tr>\n",
       "      <th>gdpp</th>\n",
       "      <td>0.418725</td>\n",
       "      <td>0.115498</td>\n",
       "      <td>-0.221631</td>\n",
       "      <td>-0.454910</td>\n",
       "      <td>1.000000</td>\n",
       "      <td>0.921149</td>\n",
       "      <td>0.812393</td>\n",
       "    </tr>\n",
       "    <tr>\n",
       "      <th>income_and_health</th>\n",
       "      <td>0.335731</td>\n",
       "      <td>0.080558</td>\n",
       "      <td>-0.258342</td>\n",
       "      <td>-0.507023</td>\n",
       "      <td>0.921149</td>\n",
       "      <td>1.000000</td>\n",
       "      <td>0.815139</td>\n",
       "    </tr>\n",
       "    <tr>\n",
       "      <th>expec_by_mortality</th>\n",
       "      <td>0.401795</td>\n",
       "      <td>0.195955</td>\n",
       "      <td>-0.325448</td>\n",
       "      <td>-0.600884</td>\n",
       "      <td>0.812393</td>\n",
       "      <td>0.815139</td>\n",
       "      <td>1.000000</td>\n",
       "    </tr>\n",
       "  </tbody>\n",
       "</table>\n",
       "</div>"
      ],
      "text/plain": [
       "                     exports   imports  inflation  total_fer      gdpp  \\\n",
       "exports             1.000000  0.737381  -0.107294  -0.320011  0.418725   \n",
       "imports             0.737381  1.000000  -0.246994  -0.159048  0.115498   \n",
       "inflation          -0.107294 -0.246994   1.000000   0.316921 -0.221631   \n",
       "total_fer          -0.320011 -0.159048   0.316921   1.000000 -0.454910   \n",
       "gdpp                0.418725  0.115498  -0.221631  -0.454910  1.000000   \n",
       "income_and_health   0.335731  0.080558  -0.258342  -0.507023  0.921149   \n",
       "expec_by_mortality  0.401795  0.195955  -0.325448  -0.600884  0.812393   \n",
       "\n",
       "                    income_and_health  expec_by_mortality  \n",
       "exports                      0.335731            0.401795  \n",
       "imports                      0.080558            0.195955  \n",
       "inflation                   -0.258342           -0.325448  \n",
       "total_fer                   -0.507023           -0.600884  \n",
       "gdpp                         0.921149            0.812393  \n",
       "income_and_health            1.000000            0.815139  \n",
       "expec_by_mortality           0.815139            1.000000  "
      ]
     },
     "execution_count": 203,
     "metadata": {},
     "output_type": "execute_result"
    }
   ],
   "source": [
    "df_raw.corr()"
   ]
  },
  {
   "cell_type": "markdown",
   "metadata": {},
   "source": [
    "# Making the model \n",
    "- KMeans algorithm is imported from skleran library and StandardScaler is used for the scaling of data.\n",
    "- Scaling of data is an important here as the K- means algorithm is a distance based algorithm and **varied distance values** can influence the results."
   ]
  },
  {
   "cell_type": "code",
   "execution_count": 204,
   "metadata": {
    "ExecuteTime": {
     "end_time": "2021-11-29T06:49:30.820652Z",
     "start_time": "2021-11-29T06:49:30.728106Z"
    }
   },
   "outputs": [],
   "source": [
    "from sklearn.cluster import KMeans\n",
    "from sklearn.preprocessing import StandardScaler"
   ]
  },
  {
   "cell_type": "markdown",
   "metadata": {},
   "source": [
    "- Country name is dropped from the data set as it bears **no real significance to the development of a country**\n",
    "- Moreover,it is a **categorical variable** which otherwise also could not have been used as a distance metric, even if it was one-hot encoded."
   ]
  },
  {
   "cell_type": "code",
   "execution_count": 205,
   "metadata": {
    "ExecuteTime": {
     "end_time": "2021-11-29T06:49:30.932582Z",
     "start_time": "2021-11-29T06:49:30.823892Z"
    }
   },
   "outputs": [],
   "source": [
    "df = df_raw.drop('country', axis=1)"
   ]
  },
  {
   "cell_type": "code",
   "execution_count": 206,
   "metadata": {
    "ExecuteTime": {
     "end_time": "2021-11-29T06:49:31.139707Z",
     "start_time": "2021-11-29T06:49:30.936535Z"
    }
   },
   "outputs": [
    {
     "data": {
      "text/html": [
       "<div>\n",
       "<style scoped>\n",
       "    .dataframe tbody tr th:only-of-type {\n",
       "        vertical-align: middle;\n",
       "    }\n",
       "\n",
       "    .dataframe tbody tr th {\n",
       "        vertical-align: top;\n",
       "    }\n",
       "\n",
       "    .dataframe thead th {\n",
       "        text-align: right;\n",
       "    }\n",
       "</style>\n",
       "<table border=\"1\" class=\"dataframe\">\n",
       "  <thead>\n",
       "    <tr style=\"text-align: right;\">\n",
       "      <th></th>\n",
       "      <th>exports</th>\n",
       "      <th>imports</th>\n",
       "      <th>inflation</th>\n",
       "      <th>total_fer</th>\n",
       "      <th>gdpp</th>\n",
       "      <th>income_and_health</th>\n",
       "      <th>expec_by_mortality</th>\n",
       "    </tr>\n",
       "  </thead>\n",
       "  <tbody>\n",
       "    <tr>\n",
       "      <th>0</th>\n",
       "      <td>10.0</td>\n",
       "      <td>44.9</td>\n",
       "      <td>9.44</td>\n",
       "      <td>5.82</td>\n",
       "      <td>553</td>\n",
       "      <td>12203.8</td>\n",
       "      <td>0.623060</td>\n",
       "    </tr>\n",
       "    <tr>\n",
       "      <th>1</th>\n",
       "      <td>28.0</td>\n",
       "      <td>48.6</td>\n",
       "      <td>4.49</td>\n",
       "      <td>1.65</td>\n",
       "      <td>4090</td>\n",
       "      <td>65041.5</td>\n",
       "      <td>4.596386</td>\n",
       "    </tr>\n",
       "  </tbody>\n",
       "</table>\n",
       "</div>"
      ],
      "text/plain": [
       "   exports  imports  inflation  total_fer  gdpp  income_and_health  \\\n",
       "0     10.0     44.9       9.44       5.82   553            12203.8   \n",
       "1     28.0     48.6       4.49       1.65  4090            65041.5   \n",
       "\n",
       "   expec_by_mortality  \n",
       "0            0.623060  \n",
       "1            4.596386  "
      ]
     },
     "execution_count": 206,
     "metadata": {},
     "output_type": "execute_result"
    }
   ],
   "source": [
    "df.head(n=2)"
   ]
  },
  {
   "cell_type": "markdown",
   "metadata": {},
   "source": [
    "### Scale and save dataframe"
   ]
  },
  {
   "cell_type": "code",
   "execution_count": 207,
   "metadata": {
    "ExecuteTime": {
     "end_time": "2021-11-29T06:49:31.321462Z",
     "start_time": "2021-11-29T06:49:31.143008Z"
    }
   },
   "outputs": [],
   "source": [
    "st = StandardScaler()\n",
    "train = pd.DataFrame(st.fit_transform(df), columns=df.columns)"
   ]
  },
  {
   "cell_type": "code",
   "execution_count": 208,
   "metadata": {
    "ExecuteTime": {
     "end_time": "2021-11-29T06:49:31.530566Z",
     "start_time": "2021-11-29T06:49:31.326010Z"
    }
   },
   "outputs": [
    {
     "data": {
      "text/html": [
       "<div>\n",
       "<style scoped>\n",
       "    .dataframe tbody tr th:only-of-type {\n",
       "        vertical-align: middle;\n",
       "    }\n",
       "\n",
       "    .dataframe tbody tr th {\n",
       "        vertical-align: top;\n",
       "    }\n",
       "\n",
       "    .dataframe thead th {\n",
       "        text-align: right;\n",
       "    }\n",
       "</style>\n",
       "<table border=\"1\" class=\"dataframe\">\n",
       "  <thead>\n",
       "    <tr style=\"text-align: right;\">\n",
       "      <th></th>\n",
       "      <th>exports</th>\n",
       "      <th>imports</th>\n",
       "      <th>inflation</th>\n",
       "      <th>total_fer</th>\n",
       "      <th>gdpp</th>\n",
       "      <th>income_and_health</th>\n",
       "      <th>expec_by_mortality</th>\n",
       "    </tr>\n",
       "  </thead>\n",
       "  <tbody>\n",
       "    <tr>\n",
       "      <th>0</th>\n",
       "      <td>-1.138280</td>\n",
       "      <td>-0.082455</td>\n",
       "      <td>0.157336</td>\n",
       "      <td>1.902882</td>\n",
       "      <td>-0.679180</td>\n",
       "      <td>-0.723556</td>\n",
       "      <td>-0.806711</td>\n",
       "    </tr>\n",
       "    <tr>\n",
       "      <th>1</th>\n",
       "      <td>-0.479658</td>\n",
       "      <td>0.070837</td>\n",
       "      <td>-0.312347</td>\n",
       "      <td>-0.859973</td>\n",
       "      <td>-0.485623</td>\n",
       "      <td>-0.380583</td>\n",
       "      <td>-0.279131</td>\n",
       "    </tr>\n",
       "    <tr>\n",
       "      <th>2</th>\n",
       "      <td>-0.099122</td>\n",
       "      <td>-0.641762</td>\n",
       "      <td>0.789274</td>\n",
       "      <td>-0.038404</td>\n",
       "      <td>-0.465376</td>\n",
       "      <td>-0.453598</td>\n",
       "      <td>-0.517364</td>\n",
       "    </tr>\n",
       "    <tr>\n",
       "      <th>3</th>\n",
       "      <td>0.775381</td>\n",
       "      <td>-0.165315</td>\n",
       "      <td>1.387054</td>\n",
       "      <td>2.128151</td>\n",
       "      <td>-0.516268</td>\n",
       "      <td>-0.693624</td>\n",
       "      <td>-0.822382</td>\n",
       "    </tr>\n",
       "    <tr>\n",
       "      <th>4</th>\n",
       "      <td>0.160668</td>\n",
       "      <td>0.497568</td>\n",
       "      <td>-0.601749</td>\n",
       "      <td>-0.541946</td>\n",
       "      <td>-0.041817</td>\n",
       "      <td>-0.055177</td>\n",
       "      <td>0.100611</td>\n",
       "    </tr>\n",
       "  </tbody>\n",
       "</table>\n",
       "</div>"
      ],
      "text/plain": [
       "    exports   imports  inflation  total_fer      gdpp  income_and_health  \\\n",
       "0 -1.138280 -0.082455   0.157336   1.902882 -0.679180          -0.723556   \n",
       "1 -0.479658  0.070837  -0.312347  -0.859973 -0.485623          -0.380583   \n",
       "2 -0.099122 -0.641762   0.789274  -0.038404 -0.465376          -0.453598   \n",
       "3  0.775381 -0.165315   1.387054   2.128151 -0.516268          -0.693624   \n",
       "4  0.160668  0.497568  -0.601749  -0.541946 -0.041817          -0.055177   \n",
       "\n",
       "   expec_by_mortality  \n",
       "0           -0.806711  \n",
       "1           -0.279131  \n",
       "2           -0.517364  \n",
       "3           -0.822382  \n",
       "4            0.100611  "
      ]
     },
     "execution_count": 208,
     "metadata": {},
     "output_type": "execute_result"
    }
   ],
   "source": [
    "train.head()"
   ]
  },
  {
   "cell_type": "code",
   "execution_count": 209,
   "metadata": {
    "ExecuteTime": {
     "end_time": "2021-11-29T06:49:31.634470Z",
     "start_time": "2021-11-29T06:49:31.533321Z"
    }
   },
   "outputs": [],
   "source": [
    "train.to_csv(r\"final_country_data.csv\")"
   ]
  },
  {
   "cell_type": "markdown",
   "metadata": {},
   "source": [
    "# Metrics \n",
    "- **INERTIA** and **Davies- Bouldin Index** were used as the metrics to measure the optimality of clusters.\n",
    "- Both the metrics are should be minimized for **formation of optimal** clusters."
   ]
  },
  {
   "cell_type": "markdown",
   "metadata": {},
   "source": [
    "# Inertia \n",
    "- It is defined as the **intracluster distance**  for the cluster.\n",
    "- The attribute **model.inertia_** provides the total inertia of the model summed up over **all the clusters**"
   ]
  },
  {
   "cell_type": "code",
   "execution_count": 210,
   "metadata": {
    "ExecuteTime": {
     "end_time": "2021-11-29T06:49:31.900753Z",
     "start_time": "2021-11-29T06:49:31.637157Z"
    }
   },
   "outputs": [],
   "source": [
    "train = pd.read_csv(r\"final_country_data.csv\").drop(['Unnamed: 0'], axis=1)"
   ]
  },
  {
   "cell_type": "code",
   "execution_count": 211,
   "metadata": {
    "ExecuteTime": {
     "end_time": "2021-11-29T06:49:32.022176Z",
     "start_time": "2021-11-29T06:49:31.904953Z"
    }
   },
   "outputs": [
    {
     "data": {
      "text/html": [
       "<div>\n",
       "<style scoped>\n",
       "    .dataframe tbody tr th:only-of-type {\n",
       "        vertical-align: middle;\n",
       "    }\n",
       "\n",
       "    .dataframe tbody tr th {\n",
       "        vertical-align: top;\n",
       "    }\n",
       "\n",
       "    .dataframe thead th {\n",
       "        text-align: right;\n",
       "    }\n",
       "</style>\n",
       "<table border=\"1\" class=\"dataframe\">\n",
       "  <thead>\n",
       "    <tr style=\"text-align: right;\">\n",
       "      <th></th>\n",
       "      <th>exports</th>\n",
       "      <th>imports</th>\n",
       "      <th>inflation</th>\n",
       "      <th>total_fer</th>\n",
       "      <th>gdpp</th>\n",
       "      <th>income_and_health</th>\n",
       "      <th>expec_by_mortality</th>\n",
       "    </tr>\n",
       "  </thead>\n",
       "  <tbody>\n",
       "    <tr>\n",
       "      <th>0</th>\n",
       "      <td>-1.138280</td>\n",
       "      <td>-0.082455</td>\n",
       "      <td>0.157336</td>\n",
       "      <td>1.902882</td>\n",
       "      <td>-0.679180</td>\n",
       "      <td>-0.723556</td>\n",
       "      <td>-0.806711</td>\n",
       "    </tr>\n",
       "    <tr>\n",
       "      <th>1</th>\n",
       "      <td>-0.479658</td>\n",
       "      <td>0.070837</td>\n",
       "      <td>-0.312347</td>\n",
       "      <td>-0.859973</td>\n",
       "      <td>-0.485623</td>\n",
       "      <td>-0.380583</td>\n",
       "      <td>-0.279131</td>\n",
       "    </tr>\n",
       "  </tbody>\n",
       "</table>\n",
       "</div>"
      ],
      "text/plain": [
       "    exports   imports  inflation  total_fer      gdpp  income_and_health  \\\n",
       "0 -1.138280 -0.082455   0.157336   1.902882 -0.679180          -0.723556   \n",
       "1 -0.479658  0.070837  -0.312347  -0.859973 -0.485623          -0.380583   \n",
       "\n",
       "   expec_by_mortality  \n",
       "0           -0.806711  \n",
       "1           -0.279131  "
      ]
     },
     "execution_count": 211,
     "metadata": {},
     "output_type": "execute_result"
    }
   ],
   "source": [
    "train.head(n=2)"
   ]
  },
  {
   "cell_type": "code",
   "execution_count": 212,
   "metadata": {
    "ExecuteTime": {
     "end_time": "2021-11-29T06:49:32.161334Z",
     "start_time": "2021-11-29T06:49:32.025320Z"
    }
   },
   "outputs": [
    {
     "data": {
      "image/png": "[encoded data removed]",
      "text/plain": [
       "<IPython.core.display.Image object>"
      ]
     },
     "execution_count": 212,
     "metadata": {},
     "output_type": "execute_result"
    }
   ],
   "source": [
    "Image(r\"Metrics and Score Plots/inertia_img.png\")"
   ]
  },
  {
   "cell_type": "code",
   "execution_count": 213,
   "metadata": {
    "ExecuteTime": {
     "end_time": "2021-11-29T06:49:35.181584Z",
     "start_time": "2021-11-29T06:49:32.164892Z"
    }
   },
   "outputs": [
    {
     "data": {
      "image/png": "[encoded data removed]",
      "text/plain": [
       "<Figure size 432x288 with 1 Axes>"
      ]
     },
     "metadata": {
      "needs_background": "light"
     },
     "output_type": "display_data"
    }
   ],
   "source": [
    "inert = []\n",
    "for i in range(3, 20):\n",
    "    km = KMeans(n_clusters=i, init='k-means++', max_iter=400)\n",
    "    km.fit(train)\n",
    "    plt.scatter(i, km.inertia_)\n",
    "    inert.append(km.inertia_)\n",
    "plt.plot([i for i in range(3, 20)], inert, color='black')\n",
    "plt.grid()\n",
    "plt.xlabel(\"Number of clusters\", fontsize=14)\n",
    "plt.ylabel(\"Inertia of model\", fontsize=14)\n",
    "plt.savefig(r'Metrics and Score Plots/inertia.png', dpi=200)"
   ]
  },
  {
   "cell_type": "markdown",
   "metadata": {},
   "source": [
    "# Davies - Bouldin Index\n",
    "- This index looks to **minimize** the ratio of **maximum (intracluster-distances with inter-cluster distances)** for **all the pairs of clusters averaged over all clusters.**\n",
    "- It is import from **sklearn.metrics** as **davies_bouldin_score**\n",
    "- A detailed description is provided **in the pdf file attached.**"
   ]
  },
  {
   "cell_type": "code",
   "execution_count": 214,
   "metadata": {
    "ExecuteTime": {
     "end_time": "2021-11-29T06:49:35.188706Z",
     "start_time": "2021-11-29T06:49:35.184560Z"
    }
   },
   "outputs": [],
   "source": [
    "from sklearn.metrics import davies_bouldin_score"
   ]
  },
  {
   "cell_type": "code",
   "execution_count": 215,
   "metadata": {
    "ExecuteTime": {
     "end_time": "2021-11-29T06:49:38.762537Z",
     "start_time": "2021-11-29T06:49:35.193967Z"
    }
   },
   "outputs": [
    {
     "data": {
      "image/png": "[encoded data removed]",
      "text/plain": [
       "<Figure size 432x288 with 1 Axes>"
      ]
     },
     "metadata": {
      "needs_background": "light"
     },
     "output_type": "display_data"
    }
   ],
   "source": [
    "dbi = []\n",
    "for i in range(3, 20):\n",
    "    km = KMeans(n_clusters=i, init='k-means++', max_iter=400)\n",
    "    km.fit(train)\n",
    "    plt.scatter(i, davies_bouldin_score(train, km.labels_))\n",
    "    dbi.append(davies_bouldin_score(train, km.labels_))\n",
    "plt.plot([i for i in range(3, 20)], dbi, color='black', linewidth=1.3)\n",
    "plt.xlabel(\"Number of Clusters\", fontsize=14)\n",
    "plt.ylabel(\"Davies-Bouldin Index\", fontsize=14)\n",
    "plt.grid()\n",
    "plt.savefig(r'Metrics and Score Plots/davies_bouldin_score.png', dpi=200)"
   ]
  },
  {
   "cell_type": "markdown",
   "metadata": {},
   "source": [
    "- We see that the **DBI** is reasonably low for number of clusters = 6,7.\n"
   ]
  },
  {
   "cell_type": "markdown",
   "metadata": {},
   "source": [
    "### Plotting Product of DBI and Inertia"
   ]
  },
  {
   "cell_type": "code",
   "execution_count": 216,
   "metadata": {
    "ExecuteTime": {
     "end_time": "2021-11-29T06:49:42.562740Z",
     "start_time": "2021-11-29T06:49:38.766085Z"
    }
   },
   "outputs": [
    {
     "data": {
      "image/png": "[encoded data removed]",
      "text/plain": [
       "<Figure size 648x648 with 1 Axes>"
      ]
     },
     "metadata": {
      "needs_background": "light"
     },
     "output_type": "display_data"
    }
   ],
   "source": [
    "dbi_inertia = []\n",
    "plt.figure(figsize=(9, 9))\n",
    "\n",
    "for i in range(3, 20):\n",
    "    km = KMeans(n_clusters=i, init='k-means++', max_iter=400)\n",
    "    km.fit(train)\n",
    "\n",
    "    dbi = davies_bouldin_score(train, km.labels_)\n",
    "    inertia = km.inertia_\n",
    "    dbi_inertia.append(dbi*inertia)\n",
    "    plt.scatter(i, dbi*inertia)\n",
    "\n",
    "\n",
    "plt.plot([i for i in range(3, 20)], dbi_inertia,\n",
    "         marker='s', alpha=0.8, linewidth=1.5)\n",
    "plt.title('Product of DBI and Inertia for the clusters', fontsize=17)\n",
    "plt.xlabel(\"Number of Clusters\", fontsize=14)\n",
    "plt.ylabel(\"Davies-Bouldin Index * Inertia\", fontsize=14)\n",
    "plt.grid()\n",
    "plt.savefig(r'Metrics and Score Plots/DBI_and_inertia.png', dpi=200)"
   ]
  },
  {
   "cell_type": "markdown",
   "metadata": {},
   "source": [
    "- Here, we see that at 7 number of clusters, we see that the product of DBI and inertia is reasonably low and having lesser number of clusters also reduces the computational time complexity."
   ]
  },
  {
   "cell_type": "markdown",
   "metadata": {},
   "source": [
    "# Final Model\n",
    "- The final model that is used has-\n",
    " - **Clusters**- 7\n",
    " - **Initialization Algorithm**- KMeans ++\n",
    " - **Max- Iterations**- 400\n",
    " - **Distance Metric**- Euclidean"
   ]
  },
  {
   "cell_type": "code",
   "execution_count": 217,
   "metadata": {
    "ExecuteTime": {
     "end_time": "2021-11-29T06:49:42.678916Z",
     "start_time": "2021-11-29T06:49:42.565105Z"
    }
   },
   "outputs": [
    {
     "data": {
      "text/plain": [
       "KMeans(max_iter=400, n_clusters=7)"
      ]
     },
     "execution_count": 217,
     "metadata": {},
     "output_type": "execute_result"
    }
   ],
   "source": [
    "km = KMeans(n_clusters=7, init='k-means++', max_iter=400)\n",
    "km.fit(train)"
   ]
  },
  {
   "cell_type": "code",
   "execution_count": 218,
   "metadata": {
    "ExecuteTime": {
     "end_time": "2021-11-29T06:49:42.746759Z",
     "start_time": "2021-11-29T06:49:42.681979Z"
    }
   },
   "outputs": [
    {
     "data": {
      "text/plain": [
       "0.9873715634858716"
      ]
     },
     "execution_count": 218,
     "metadata": {},
     "output_type": "execute_result"
    }
   ],
   "source": [
    "davies_bouldin_score(train, km.labels_)"
   ]
  },
  {
   "cell_type": "code",
   "execution_count": 219,
   "metadata": {
    "ExecuteTime": {
     "end_time": "2021-11-29T06:49:42.847287Z",
     "start_time": "2021-11-29T06:49:42.749468Z"
    }
   },
   "outputs": [
    {
     "data": {
      "text/plain": [
       "314.9062520005271"
      ]
     },
     "execution_count": 219,
     "metadata": {},
     "output_type": "execute_result"
    }
   ],
   "source": [
    "km.inertia_"
   ]
  },
  {
   "cell_type": "code",
   "execution_count": 220,
   "metadata": {
    "ExecuteTime": {
     "end_time": "2021-11-29T06:49:42.958327Z",
     "start_time": "2021-11-29T06:49:42.850329Z"
    },
    "scrolled": false
   },
   "outputs": [
    {
     "data": {
      "text/plain": [
       "array([0, 4, 4, 0, 6, 4, 4, 2, 2, 4, 6, 6, 4, 6, 6, 2, 6, 0, 3, 4, 6, 3,\n",
       "       4, 6, 6, 0, 0, 3, 0, 2, 3, 0, 0, 4, 4, 4, 0, 0, 3, 4, 0, 6, 2, 2,\n",
       "       2, 4, 4, 4, 4, 3, 0, 6, 3, 2, 2, 4, 0, 4, 2, 0, 2, 4, 4, 0, 0, 3,\n",
       "       3, 6, 2, 4, 4, 4, 0, 2, 2, 2, 4, 2, 3, 4, 0, 3, 6, 3, 3, 6, 6, 3,\n",
       "       3, 6, 6, 1, 6, 0, 0, 6, 6, 0, 1, 3, 6, 3, 6, 4, 6, 4, 0, 4, 3, 4,\n",
       "       2, 2, 0, 5, 2, 6, 0, 6, 3, 4, 4, 6, 2, 2, 4, 4, 0, 3, 4, 0, 6, 6,\n",
       "       0, 1, 6, 2, 3, 4, 2, 2, 4, 4, 0, 4, 2, 2, 3, 0, 6, 0, 3, 3, 6, 4,\n",
       "       6, 0, 6, 6, 2, 2, 4, 4, 3, 4, 6, 0, 0], dtype=int32)"
      ]
     },
     "execution_count": 220,
     "metadata": {},
     "output_type": "execute_result"
    }
   ],
   "source": [
    "km.labels_"
   ]
  },
  {
   "cell_type": "code",
   "execution_count": 221,
   "metadata": {
    "ExecuteTime": {
     "end_time": "2021-11-29T06:49:43.064270Z",
     "start_time": "2021-11-29T06:49:42.961087Z"
    }
   },
   "outputs": [],
   "source": [
    "clusters = pd.DataFrame(km.cluster_centers_, columns=train.columns)"
   ]
  },
  {
   "cell_type": "code",
   "execution_count": 222,
   "metadata": {
    "ExecuteTime": {
     "end_time": "2021-11-29T06:49:43.182971Z",
     "start_time": "2021-11-29T06:49:43.066830Z"
    },
    "scrolled": false
   },
   "outputs": [
    {
     "name": "stdout",
     "output_type": "stream",
     "text": [
      "CLUSTERED COUNTRIES\n",
      "Label  0 : ['Afghanistan', 'Angola', 'Benin', 'Burkina Faso', 'Burundi', 'Cameroon', 'Central African Republic', 'Chad', 'Comoros', 'Congo, Dem. Rep.', \"Cote d'Ivoire\", 'Eritrea', 'Gambia', 'Ghana', 'Guinea', 'Guinea-Bissau', 'Iraq', 'Kenya', 'Madagascar', 'Malawi', 'Mali', 'Mozambique', 'Niger', 'Pakistan', 'Rwanda', 'Senegal', 'Sierra Leone', 'Sudan', 'Tanzania', 'Timor-Leste', 'Uganda', 'Yemen', 'Zambia']\n",
      "\n",
      "Label  4 : ['Albania', 'Algeria', 'Argentina', 'Armenia', 'Azerbaijan', 'Bangladesh', 'Bolivia', 'Brazil', 'Chile', 'China', 'Colombia', 'Costa Rica', 'Dominican Republic', 'Ecuador', 'Egypt', 'El Salvador', 'Gabon', 'Georgia', 'Grenada', 'Guatemala', 'India', 'Indonesia', 'Iran', 'Jamaica', 'Kazakhstan', 'Mongolia', 'Morocco', 'Myanmar', 'Nepal', 'Peru', 'Philippines', 'Romania', 'Russia', 'Saudi Arabia', 'South Africa', 'Sri Lanka', 'St. Vincent and the Grenadines', 'Suriname', 'Turkey', 'Uruguay', 'Uzbekistan', 'Venezuela']\n",
      "\n",
      "Label  6 : ['Antigua and Barbuda', 'Bahamas', 'Bahrain', 'Barbados', 'Belarus', 'Belize', 'Bosnia and Herzegovina', 'Brunei', 'Bulgaria', 'Croatia', 'Estonia', 'Hungary', 'Kuwait', 'Latvia', 'Lebanon', 'Libya', 'Lithuania', 'Macedonia, FYR', 'Malaysia', 'Maldives', 'Mauritius', 'Moldova', 'Montenegro', 'Oman', 'Panama', 'Poland', 'Serbia', 'Seychelles', 'Slovak Republic', 'Thailand', 'Tunisia', 'Turkmenistan', 'Ukraine', 'United Arab Emirates', 'Vietnam']\n",
      "\n",
      "Label  2 : ['Australia', 'Austria', 'Belgium', 'Canada', 'Cyprus', 'Czech Republic', 'Denmark', 'Finland', 'France', 'Germany', 'Greece', 'Iceland', 'Ireland', 'Israel', 'Italy', 'Japan', 'Netherlands', 'New Zealand', 'Norway', 'Portugal', 'Qatar', 'Slovenia', 'South Korea', 'Spain', 'Sweden', 'Switzerland', 'United Kingdom', 'United States']\n",
      "\n",
      "Label  3 : ['Bhutan', 'Botswana', 'Cambodia', 'Cape Verde', 'Congo, Rep.', 'Equatorial Guinea', 'Fiji', 'Guyana', 'Haiti', 'Jordan', 'Kiribati', 'Kyrgyz Republic', 'Lao', 'Lesotho', 'Liberia', 'Mauritania', 'Micronesia, Fed. Sts.', 'Namibia', 'Paraguay', 'Samoa', 'Solomon Islands', 'Tajikistan', 'Togo', 'Tonga', 'Vanuatu']\n",
      "\n",
      "Label  1 : ['Luxembourg', 'Malta', 'Singapore']\n",
      "\n",
      "Label  5 : ['Nigeria']\n",
      "\n"
     ]
    }
   ],
   "source": [
    "label_dict = dict()\n",
    "for i, j in zip(km.labels_, df_raw.country):\n",
    "    if(i not in label_dict):\n",
    "        label_dict[i] = []\n",
    "    label_dict[i].append(j)\n",
    "print(\"CLUSTERED COUNTRIES\")\n",
    "for k, j in label_dict.items():\n",
    "    print(\"Label \", k, \":\", j)\n",
    "    print()"
   ]
  },
  {
   "cell_type": "code",
   "execution_count": 249,
   "metadata": {
    "ExecuteTime": {
     "end_time": "2021-11-29T06:54:00.957338Z",
     "start_time": "2021-11-29T06:54:00.930357Z"
    },
    "scrolled": true
   },
   "outputs": [
    {
     "data": {
      "text/html": [
       "<div>\n",
       "<style scoped>\n",
       "    .dataframe tbody tr th:only-of-type {\n",
       "        vertical-align: middle;\n",
       "    }\n",
       "\n",
       "    .dataframe tbody tr th {\n",
       "        vertical-align: top;\n",
       "    }\n",
       "\n",
       "    .dataframe thead th {\n",
       "        text-align: right;\n",
       "    }\n",
       "</style>\n",
       "<table border=\"1\" class=\"dataframe\">\n",
       "  <thead>\n",
       "    <tr style=\"text-align: right;\">\n",
       "      <th></th>\n",
       "      <th>exports</th>\n",
       "      <th>imports</th>\n",
       "      <th>inflation</th>\n",
       "      <th>total_fer</th>\n",
       "      <th>gdpp</th>\n",
       "      <th>income_and_health</th>\n",
       "      <th>expec_by_mortality</th>\n",
       "    </tr>\n",
       "  </thead>\n",
       "  <tbody>\n",
       "    <tr>\n",
       "      <th>0</th>\n",
       "      <td>-0.636209</td>\n",
       "      <td>-0.443776</td>\n",
       "      <td>0.222045</td>\n",
       "      <td>1.615373</td>\n",
       "      <td>-0.652836</td>\n",
       "      <td>-0.712060</td>\n",
       "      <td>-0.793731</td>\n",
       "    </tr>\n",
       "    <tr>\n",
       "      <th>5</th>\n",
       "      <td>-0.578452</td>\n",
       "      <td>-1.221785</td>\n",
       "      <td>9.129718</td>\n",
       "      <td>1.916133</td>\n",
       "      <td>-0.581936</td>\n",
       "      <td>-0.633286</td>\n",
       "      <td>-0.827647</td>\n",
       "    </tr>\n",
       "    <tr>\n",
       "      <th>3</th>\n",
       "      <td>0.025431</td>\n",
       "      <td>0.801168</td>\n",
       "      <td>-0.058301</td>\n",
       "      <td>0.454007</td>\n",
       "      <td>-0.548619</td>\n",
       "      <td>-0.578553</td>\n",
       "      <td>-0.663612</td>\n",
       "    </tr>\n",
       "    <tr>\n",
       "      <th>4</th>\n",
       "      <td>-0.435760</td>\n",
       "      <td>-0.643276</td>\n",
       "      <td>0.305191</td>\n",
       "      <td>-0.380725</td>\n",
       "      <td>-0.382863</td>\n",
       "      <td>-0.347737</td>\n",
       "      <td>-0.408434</td>\n",
       "    </tr>\n",
       "    <tr>\n",
       "      <th>6</th>\n",
       "      <td>0.616580</td>\n",
       "      <td>0.476142</td>\n",
       "      <td>-0.270489</td>\n",
       "      <td>-0.729733</td>\n",
       "      <td>-0.051620</td>\n",
       "      <td>-0.035295</td>\n",
       "      <td>0.147365</td>\n",
       "    </tr>\n",
       "    <tr>\n",
       "      <th>2</th>\n",
       "      <td>0.101862</td>\n",
       "      <td>-0.266227</td>\n",
       "      <td>-0.601355</td>\n",
       "      <td>-0.783069</td>\n",
       "      <td>1.657342</td>\n",
       "      <td>1.742016</td>\n",
       "      <td>1.747525</td>\n",
       "    </tr>\n",
       "    <tr>\n",
       "      <th>1</th>\n",
       "      <td>4.935673</td>\n",
       "      <td>4.548058</td>\n",
       "      <td>-0.504206</td>\n",
       "      <td>-1.038863</td>\n",
       "      <td>2.440797</td>\n",
       "      <td>1.886300</td>\n",
       "      <td>2.225600</td>\n",
       "    </tr>\n",
       "  </tbody>\n",
       "</table>\n",
       "</div>"
      ],
      "text/plain": [
       "    exports   imports  inflation  total_fer      gdpp  income_and_health  \\\n",
       "0 -0.636209 -0.443776   0.222045   1.615373 -0.652836          -0.712060   \n",
       "5 -0.578452 -1.221785   9.129718   1.916133 -0.581936          -0.633286   \n",
       "3  0.025431  0.801168  -0.058301   0.454007 -0.548619          -0.578553   \n",
       "4 -0.435760 -0.643276   0.305191  -0.380725 -0.382863          -0.347737   \n",
       "6  0.616580  0.476142  -0.270489  -0.729733 -0.051620          -0.035295   \n",
       "2  0.101862 -0.266227  -0.601355  -0.783069  1.657342           1.742016   \n",
       "1  4.935673  4.548058  -0.504206  -1.038863  2.440797           1.886300   \n",
       "\n",
       "   expec_by_mortality  \n",
       "0           -0.793731  \n",
       "5           -0.827647  \n",
       "3           -0.663612  \n",
       "4           -0.408434  \n",
       "6            0.147365  \n",
       "2            1.747525  \n",
       "1            2.225600  "
      ]
     },
     "execution_count": 249,
     "metadata": {},
     "output_type": "execute_result"
    }
   ],
   "source": [
    "clusters.sort_values('income_and_health')"
   ]
  },
  {
   "cell_type": "markdown",
   "metadata": {},
   "source": [
    "- The cluster Data Frame is sorted according to the **income and health product**.\n",
    "- According to the **cluster dataframe**, it is noted that the countries clustered around **labels 0 and 5** had the **lowest cluster income and GDP percapita**.\n",
    "- It was also noted that those countries had the **highest fertility and mortality product** which made them candidates that would actually require **external socio - economic help**"
   ]
  },
  {
   "cell_type": "markdown",
   "metadata": {},
   "source": [
    "# Making new Dataframe for Cluster"
   ]
  },
  {
   "cell_type": "markdown",
   "metadata": {},
   "source": [
    "### - Clusters 0 and 5\n",
    "- This cluster represents the **most in need countries amongst the data set**.\n",
    "- This cluster is now analysed according to different variables and the **top 20** countries are extracted out of it on this basis."
   ]
  },
  {
   "cell_type": "code",
   "execution_count": 250,
   "metadata": {
    "ExecuteTime": {
     "end_time": "2021-11-29T06:54:07.726314Z",
     "start_time": "2021-11-29T06:54:07.376968Z"
    }
   },
   "outputs": [],
   "source": [
    "countries = label_dict[0]\n",
    "\n",
    "# adding nigeria too...\n",
    "countries.append(\"Nigeria\")\n",
    "df_label = pd.DataFrame(columns=df_raw.columns)\n",
    "df_new = pd.DataFrame(columns=df_raw.columns)\n",
    "for c in df_raw.country:\n",
    "    if(c in countries):\n",
    "        df_label = df_label.append(df_raw.loc[df_raw.country == c])\n",
    "    else:\n",
    "        df_new = df_new.append(df_raw.loc[df_raw.country == c])"
   ]
  },
  {
   "cell_type": "markdown",
   "metadata": {},
   "source": [
    "# Clustered Countries"
   ]
  },
  {
   "cell_type": "code",
   "execution_count": 251,
   "metadata": {
    "ExecuteTime": {
     "end_time": "2021-11-29T06:54:09.348661Z",
     "start_time": "2021-11-29T06:54:09.315211Z"
    }
   },
   "outputs": [
    {
     "data": {
      "text/html": [
       "<div>\n",
       "<style scoped>\n",
       "    .dataframe tbody tr th:only-of-type {\n",
       "        vertical-align: middle;\n",
       "    }\n",
       "\n",
       "    .dataframe tbody tr th {\n",
       "        vertical-align: top;\n",
       "    }\n",
       "\n",
       "    .dataframe thead th {\n",
       "        text-align: right;\n",
       "    }\n",
       "</style>\n",
       "<table border=\"1\" class=\"dataframe\">\n",
       "  <thead>\n",
       "    <tr style=\"text-align: right;\">\n",
       "      <th></th>\n",
       "      <th>country</th>\n",
       "      <th>exports</th>\n",
       "      <th>imports</th>\n",
       "      <th>inflation</th>\n",
       "      <th>total_fer</th>\n",
       "      <th>gdpp</th>\n",
       "      <th>income_and_health</th>\n",
       "      <th>expec_by_mortality</th>\n",
       "    </tr>\n",
       "  </thead>\n",
       "  <tbody>\n",
       "    <tr>\n",
       "      <th>0</th>\n",
       "      <td>Afghanistan</td>\n",
       "      <td>10.00</td>\n",
       "      <td>44.9</td>\n",
       "      <td>9.440</td>\n",
       "      <td>5.82</td>\n",
       "      <td>553</td>\n",
       "      <td>12203.8</td>\n",
       "      <td>0.623060</td>\n",
       "    </tr>\n",
       "    <tr>\n",
       "      <th>3</th>\n",
       "      <td>Angola</td>\n",
       "      <td>62.30</td>\n",
       "      <td>42.9</td>\n",
       "      <td>22.400</td>\n",
       "      <td>6.16</td>\n",
       "      <td>3530</td>\n",
       "      <td>16815.0</td>\n",
       "      <td>0.505042</td>\n",
       "    </tr>\n",
       "    <tr>\n",
       "      <th>17</th>\n",
       "      <td>Benin</td>\n",
       "      <td>23.80</td>\n",
       "      <td>37.2</td>\n",
       "      <td>0.885</td>\n",
       "      <td>5.36</td>\n",
       "      <td>758</td>\n",
       "      <td>7462.0</td>\n",
       "      <td>0.556757</td>\n",
       "    </tr>\n",
       "    <tr>\n",
       "      <th>25</th>\n",
       "      <td>Burkina Faso</td>\n",
       "      <td>19.20</td>\n",
       "      <td>29.6</td>\n",
       "      <td>6.810</td>\n",
       "      <td>5.87</td>\n",
       "      <td>575</td>\n",
       "      <td>9638.2</td>\n",
       "      <td>0.499138</td>\n",
       "    </tr>\n",
       "    <tr>\n",
       "      <th>26</th>\n",
       "      <td>Burundi</td>\n",
       "      <td>8.92</td>\n",
       "      <td>39.2</td>\n",
       "      <td>12.300</td>\n",
       "      <td>6.26</td>\n",
       "      <td>231</td>\n",
       "      <td>8862.4</td>\n",
       "      <td>0.616453</td>\n",
       "    </tr>\n",
       "  </tbody>\n",
       "</table>\n",
       "</div>"
      ],
      "text/plain": [
       "         country  exports  imports  inflation  total_fer  gdpp  \\\n",
       "0    Afghanistan    10.00     44.9      9.440       5.82   553   \n",
       "3         Angola    62.30     42.9     22.400       6.16  3530   \n",
       "17         Benin    23.80     37.2      0.885       5.36   758   \n",
       "25  Burkina Faso    19.20     29.6      6.810       5.87   575   \n",
       "26       Burundi     8.92     39.2     12.300       6.26   231   \n",
       "\n",
       "    income_and_health  expec_by_mortality  \n",
       "0             12203.8            0.623060  \n",
       "3             16815.0            0.505042  \n",
       "17             7462.0            0.556757  \n",
       "25             9638.2            0.499138  \n",
       "26             8862.4            0.616453  "
      ]
     },
     "execution_count": 251,
     "metadata": {},
     "output_type": "execute_result"
    }
   ],
   "source": [
    "df_label.head()"
   ]
  },
  {
   "cell_type": "markdown",
   "metadata": {},
   "source": [
    "# Other countries"
   ]
  },
  {
   "cell_type": "code",
   "execution_count": 252,
   "metadata": {
    "ExecuteTime": {
     "end_time": "2021-11-29T06:54:09.986706Z",
     "start_time": "2021-11-29T06:54:09.957121Z"
    }
   },
   "outputs": [
    {
     "data": {
      "text/html": [
       "<div>\n",
       "<style scoped>\n",
       "    .dataframe tbody tr th:only-of-type {\n",
       "        vertical-align: middle;\n",
       "    }\n",
       "\n",
       "    .dataframe tbody tr th {\n",
       "        vertical-align: top;\n",
       "    }\n",
       "\n",
       "    .dataframe thead th {\n",
       "        text-align: right;\n",
       "    }\n",
       "</style>\n",
       "<table border=\"1\" class=\"dataframe\">\n",
       "  <thead>\n",
       "    <tr style=\"text-align: right;\">\n",
       "      <th></th>\n",
       "      <th>country</th>\n",
       "      <th>exports</th>\n",
       "      <th>imports</th>\n",
       "      <th>inflation</th>\n",
       "      <th>total_fer</th>\n",
       "      <th>gdpp</th>\n",
       "      <th>income_and_health</th>\n",
       "      <th>expec_by_mortality</th>\n",
       "    </tr>\n",
       "  </thead>\n",
       "  <tbody>\n",
       "    <tr>\n",
       "      <th>1</th>\n",
       "      <td>Albania</td>\n",
       "      <td>28.0</td>\n",
       "      <td>48.6</td>\n",
       "      <td>4.49</td>\n",
       "      <td>1.65</td>\n",
       "      <td>4090</td>\n",
       "      <td>65041.5</td>\n",
       "      <td>4.596386</td>\n",
       "    </tr>\n",
       "    <tr>\n",
       "      <th>2</th>\n",
       "      <td>Algeria</td>\n",
       "      <td>38.4</td>\n",
       "      <td>31.4</td>\n",
       "      <td>16.10</td>\n",
       "      <td>2.89</td>\n",
       "      <td>4460</td>\n",
       "      <td>53793.0</td>\n",
       "      <td>2.802198</td>\n",
       "    </tr>\n",
       "    <tr>\n",
       "      <th>4</th>\n",
       "      <td>Antigua and Barbuda</td>\n",
       "      <td>45.5</td>\n",
       "      <td>58.9</td>\n",
       "      <td>1.44</td>\n",
       "      <td>2.13</td>\n",
       "      <td>12200</td>\n",
       "      <td>115173.0</td>\n",
       "      <td>7.456311</td>\n",
       "    </tr>\n",
       "    <tr>\n",
       "      <th>5</th>\n",
       "      <td>Argentina</td>\n",
       "      <td>18.9</td>\n",
       "      <td>16.0</td>\n",
       "      <td>20.90</td>\n",
       "      <td>2.37</td>\n",
       "      <td>10300</td>\n",
       "      <td>151470.0</td>\n",
       "      <td>5.227586</td>\n",
       "    </tr>\n",
       "    <tr>\n",
       "      <th>6</th>\n",
       "      <td>Armenia</td>\n",
       "      <td>20.8</td>\n",
       "      <td>45.3</td>\n",
       "      <td>7.77</td>\n",
       "      <td>1.69</td>\n",
       "      <td>3220</td>\n",
       "      <td>29480.0</td>\n",
       "      <td>4.049724</td>\n",
       "    </tr>\n",
       "    <tr>\n",
       "      <th>...</th>\n",
       "      <td>...</td>\n",
       "      <td>...</td>\n",
       "      <td>...</td>\n",
       "      <td>...</td>\n",
       "      <td>...</td>\n",
       "      <td>...</td>\n",
       "      <td>...</td>\n",
       "      <td>...</td>\n",
       "    </tr>\n",
       "    <tr>\n",
       "      <th>160</th>\n",
       "      <td>Uruguay</td>\n",
       "      <td>26.3</td>\n",
       "      <td>25.4</td>\n",
       "      <td>4.91</td>\n",
       "      <td>2.08</td>\n",
       "      <td>11900</td>\n",
       "      <td>142785.0</td>\n",
       "      <td>7.207547</td>\n",
       "    </tr>\n",
       "    <tr>\n",
       "      <th>161</th>\n",
       "      <td>Uzbekistan</td>\n",
       "      <td>31.7</td>\n",
       "      <td>28.5</td>\n",
       "      <td>16.50</td>\n",
       "      <td>2.34</td>\n",
       "      <td>1380</td>\n",
       "      <td>24634.4</td>\n",
       "      <td>1.895317</td>\n",
       "    </tr>\n",
       "    <tr>\n",
       "      <th>162</th>\n",
       "      <td>Vanuatu</td>\n",
       "      <td>46.6</td>\n",
       "      <td>52.7</td>\n",
       "      <td>2.62</td>\n",
       "      <td>3.50</td>\n",
       "      <td>2970</td>\n",
       "      <td>15487.5</td>\n",
       "      <td>2.157534</td>\n",
       "    </tr>\n",
       "    <tr>\n",
       "      <th>163</th>\n",
       "      <td>Venezuela</td>\n",
       "      <td>28.5</td>\n",
       "      <td>17.6</td>\n",
       "      <td>45.90</td>\n",
       "      <td>2.47</td>\n",
       "      <td>13500</td>\n",
       "      <td>81015.0</td>\n",
       "      <td>4.409357</td>\n",
       "    </tr>\n",
       "    <tr>\n",
       "      <th>164</th>\n",
       "      <td>Vietnam</td>\n",
       "      <td>72.0</td>\n",
       "      <td>80.2</td>\n",
       "      <td>12.10</td>\n",
       "      <td>1.95</td>\n",
       "      <td>1310</td>\n",
       "      <td>30711.6</td>\n",
       "      <td>3.137339</td>\n",
       "    </tr>\n",
       "  </tbody>\n",
       "</table>\n",
       "<p>133 rows × 8 columns</p>\n",
       "</div>"
      ],
      "text/plain": [
       "                 country  exports  imports  inflation  total_fer   gdpp  \\\n",
       "1                Albania     28.0     48.6       4.49       1.65   4090   \n",
       "2                Algeria     38.4     31.4      16.10       2.89   4460   \n",
       "4    Antigua and Barbuda     45.5     58.9       1.44       2.13  12200   \n",
       "5              Argentina     18.9     16.0      20.90       2.37  10300   \n",
       "6                Armenia     20.8     45.3       7.77       1.69   3220   \n",
       "..                   ...      ...      ...        ...        ...    ...   \n",
       "160              Uruguay     26.3     25.4       4.91       2.08  11900   \n",
       "161           Uzbekistan     31.7     28.5      16.50       2.34   1380   \n",
       "162              Vanuatu     46.6     52.7       2.62       3.50   2970   \n",
       "163            Venezuela     28.5     17.6      45.90       2.47  13500   \n",
       "164              Vietnam     72.0     80.2      12.10       1.95   1310   \n",
       "\n",
       "     income_and_health  expec_by_mortality  \n",
       "1              65041.5            4.596386  \n",
       "2              53793.0            2.802198  \n",
       "4             115173.0            7.456311  \n",
       "5             151470.0            5.227586  \n",
       "6              29480.0            4.049724  \n",
       "..                 ...                 ...  \n",
       "160           142785.0            7.207547  \n",
       "161            24634.4            1.895317  \n",
       "162            15487.5            2.157534  \n",
       "163            81015.0            4.409357  \n",
       "164            30711.6            3.137339  \n",
       "\n",
       "[133 rows x 8 columns]"
      ]
     },
     "execution_count": 252,
     "metadata": {},
     "output_type": "execute_result"
    }
   ],
   "source": [
    "df_new"
   ]
  },
  {
   "cell_type": "code",
   "execution_count": 253,
   "metadata": {
    "ExecuteTime": {
     "end_time": "2021-11-29T06:54:10.124235Z",
     "start_time": "2021-11-29T06:54:10.119809Z"
    }
   },
   "outputs": [],
   "source": [
    "df_label.gdpp = df_label.gdpp.astype(float, copy=True)"
   ]
  },
  {
   "cell_type": "code",
   "execution_count": 254,
   "metadata": {
    "ExecuteTime": {
     "end_time": "2021-11-29T06:54:10.286251Z",
     "start_time": "2021-11-29T06:54:10.282554Z"
    }
   },
   "outputs": [],
   "source": [
    "df_new.gdpp = df_new.gdpp.astype(float, copy=True)"
   ]
  },
  {
   "cell_type": "code",
   "execution_count": 255,
   "metadata": {
    "ExecuteTime": {
     "end_time": "2021-11-29T06:54:10.587269Z",
     "start_time": "2021-11-29T06:54:10.552893Z"
    }
   },
   "outputs": [
    {
     "data": {
      "text/html": [
       "<div>\n",
       "<style scoped>\n",
       "    .dataframe tbody tr th:only-of-type {\n",
       "        vertical-align: middle;\n",
       "    }\n",
       "\n",
       "    .dataframe tbody tr th {\n",
       "        vertical-align: top;\n",
       "    }\n",
       "\n",
       "    .dataframe thead th {\n",
       "        text-align: right;\n",
       "    }\n",
       "</style>\n",
       "<table border=\"1\" class=\"dataframe\">\n",
       "  <thead>\n",
       "    <tr style=\"text-align: right;\">\n",
       "      <th></th>\n",
       "      <th>exports</th>\n",
       "      <th>imports</th>\n",
       "      <th>inflation</th>\n",
       "      <th>total_fer</th>\n",
       "      <th>gdpp</th>\n",
       "      <th>income_and_health</th>\n",
       "      <th>expec_by_mortality</th>\n",
       "    </tr>\n",
       "  </thead>\n",
       "  <tbody>\n",
       "    <tr>\n",
       "      <th>count</th>\n",
       "      <td>34.000000</td>\n",
       "      <td>34.000000</td>\n",
       "      <td>34.000000</td>\n",
       "      <td>34.000000</td>\n",
       "      <td>34.000000</td>\n",
       "      <td>34.000000</td>\n",
       "      <td>34.000000</td>\n",
       "    </tr>\n",
       "    <tr>\n",
       "      <th>mean</th>\n",
       "      <td>23.767941</td>\n",
       "      <td>35.626471</td>\n",
       "      <td>12.883088</td>\n",
       "      <td>5.399412</td>\n",
       "      <td>1072.500000</td>\n",
       "      <td>14331.775000</td>\n",
       "      <td>0.713302</td>\n",
       "    </tr>\n",
       "    <tr>\n",
       "      <th>std</th>\n",
       "      <td>12.552845</td>\n",
       "      <td>9.227013</td>\n",
       "      <td>17.610075</td>\n",
       "      <td>0.794771</td>\n",
       "      <td>995.546698</td>\n",
       "      <td>17299.974249</td>\n",
       "      <td>0.309826</td>\n",
       "    </tr>\n",
       "    <tr>\n",
       "      <th>min</th>\n",
       "      <td>2.200000</td>\n",
       "      <td>17.200000</td>\n",
       "      <td>0.885000</td>\n",
       "      <td>3.850000</td>\n",
       "      <td>231.000000</td>\n",
       "      <td>3534.240000</td>\n",
       "      <td>0.318792</td>\n",
       "    </tr>\n",
       "    <tr>\n",
       "      <th>25%</th>\n",
       "      <td>16.575000</td>\n",
       "      <td>29.225000</td>\n",
       "      <td>3.977500</td>\n",
       "      <td>4.782500</td>\n",
       "      <td>498.250000</td>\n",
       "      <td>6956.275000</td>\n",
       "      <td>0.500614</td>\n",
       "    </tr>\n",
       "    <tr>\n",
       "      <th>50%</th>\n",
       "      <td>22.500000</td>\n",
       "      <td>35.000000</td>\n",
       "      <td>9.345000</td>\n",
       "      <td>5.325000</td>\n",
       "      <td>705.000000</td>\n",
       "      <td>11797.500000</td>\n",
       "      <td>0.619756</td>\n",
       "    </tr>\n",
       "    <tr>\n",
       "      <th>75%</th>\n",
       "      <td>29.875000</td>\n",
       "      <td>43.150000</td>\n",
       "      <td>16.475000</td>\n",
       "      <td>5.862500</td>\n",
       "      <td>1287.500000</td>\n",
       "      <td>15544.150000</td>\n",
       "      <td>0.856471</td>\n",
       "    </tr>\n",
       "    <tr>\n",
       "      <th>max</th>\n",
       "      <td>62.300000</td>\n",
       "      <td>51.700000</td>\n",
       "      <td>104.000000</td>\n",
       "      <td>7.490000</td>\n",
       "      <td>4500.000000</td>\n",
       "      <td>106807.000000</td>\n",
       "      <td>1.821138</td>\n",
       "    </tr>\n",
       "  </tbody>\n",
       "</table>\n",
       "</div>"
      ],
      "text/plain": [
       "         exports    imports   inflation  total_fer         gdpp  \\\n",
       "count  34.000000  34.000000   34.000000  34.000000    34.000000   \n",
       "mean   23.767941  35.626471   12.883088   5.399412  1072.500000   \n",
       "std    12.552845   9.227013   17.610075   0.794771   995.546698   \n",
       "min     2.200000  17.200000    0.885000   3.850000   231.000000   \n",
       "25%    16.575000  29.225000    3.977500   4.782500   498.250000   \n",
       "50%    22.500000  35.000000    9.345000   5.325000   705.000000   \n",
       "75%    29.875000  43.150000   16.475000   5.862500  1287.500000   \n",
       "max    62.300000  51.700000  104.000000   7.490000  4500.000000   \n",
       "\n",
       "       income_and_health  expec_by_mortality  \n",
       "count          34.000000           34.000000  \n",
       "mean        14331.775000            0.713302  \n",
       "std         17299.974249            0.309826  \n",
       "min          3534.240000            0.318792  \n",
       "25%          6956.275000            0.500614  \n",
       "50%         11797.500000            0.619756  \n",
       "75%         15544.150000            0.856471  \n",
       "max        106807.000000            1.821138  "
      ]
     },
     "execution_count": 255,
     "metadata": {},
     "output_type": "execute_result"
    }
   ],
   "source": [
    "df_label.describe()"
   ]
  },
  {
   "cell_type": "code",
   "execution_count": 256,
   "metadata": {
    "ExecuteTime": {
     "end_time": "2021-11-29T06:54:10.835613Z",
     "start_time": "2021-11-29T06:54:10.801232Z"
    }
   },
   "outputs": [
    {
     "data": {
      "text/html": [
       "<div>\n",
       "<style scoped>\n",
       "    .dataframe tbody tr th:only-of-type {\n",
       "        vertical-align: middle;\n",
       "    }\n",
       "\n",
       "    .dataframe tbody tr th {\n",
       "        vertical-align: top;\n",
       "    }\n",
       "\n",
       "    .dataframe thead th {\n",
       "        text-align: right;\n",
       "    }\n",
       "</style>\n",
       "<table border=\"1\" class=\"dataframe\">\n",
       "  <thead>\n",
       "    <tr style=\"text-align: right;\">\n",
       "      <th></th>\n",
       "      <th>exports</th>\n",
       "      <th>imports</th>\n",
       "      <th>inflation</th>\n",
       "      <th>total_fer</th>\n",
       "      <th>gdpp</th>\n",
       "      <th>income_and_health</th>\n",
       "      <th>expec_by_mortality</th>\n",
       "    </tr>\n",
       "  </thead>\n",
       "  <tbody>\n",
       "    <tr>\n",
       "      <th>count</th>\n",
       "      <td>133.000000</td>\n",
       "      <td>133.000000</td>\n",
       "      <td>133.000000</td>\n",
       "      <td>133.000000</td>\n",
       "      <td>133.00000</td>\n",
       "      <td>133.000000</td>\n",
       "      <td>133.000000</td>\n",
       "    </tr>\n",
       "    <tr>\n",
       "      <th>mean</th>\n",
       "      <td>45.542023</td>\n",
       "      <td>49.769668</td>\n",
       "      <td>6.477752</td>\n",
       "      <td>2.321278</td>\n",
       "      <td>16004.12782</td>\n",
       "      <td>151625.445113</td>\n",
       "      <td>8.228657</td>\n",
       "    </tr>\n",
       "    <tr>\n",
       "      <th>std</th>\n",
       "      <td>28.430884</td>\n",
       "      <td>25.976004</td>\n",
       "      <td>7.387570</td>\n",
       "      <td>0.883447</td>\n",
       "      <td>19403.30895</td>\n",
       "      <td>161509.973547</td>\n",
       "      <td>7.755544</td>\n",
       "    </tr>\n",
       "    <tr>\n",
       "      <th>min</th>\n",
       "      <td>0.109000</td>\n",
       "      <td>0.065900</td>\n",
       "      <td>-4.210000</td>\n",
       "      <td>1.150000</td>\n",
       "      <td>327.00000</td>\n",
       "      <td>7328.400000</td>\n",
       "      <td>0.154327</td>\n",
       "    </tr>\n",
       "    <tr>\n",
       "      <th>25%</th>\n",
       "      <td>27.800000</td>\n",
       "      <td>30.800000</td>\n",
       "      <td>1.440000</td>\n",
       "      <td>1.630000</td>\n",
       "      <td>3110.00000</td>\n",
       "      <td>40976.000000</td>\n",
       "      <td>2.314189</td>\n",
       "    </tr>\n",
       "    <tr>\n",
       "      <th>50%</th>\n",
       "      <td>39.700000</td>\n",
       "      <td>48.600000</td>\n",
       "      <td>4.220000</td>\n",
       "      <td>2.140000</td>\n",
       "      <td>7370.00000</td>\n",
       "      <td>97440.000000</td>\n",
       "      <td>4.883562</td>\n",
       "    </tr>\n",
       "    <tr>\n",
       "      <th>75%</th>\n",
       "      <td>54.300000</td>\n",
       "      <td>61.800000</td>\n",
       "      <td>8.920000</td>\n",
       "      <td>2.670000</td>\n",
       "      <td>21100.00000</td>\n",
       "      <td>204267.000000</td>\n",
       "      <td>12.000000</td>\n",
       "    </tr>\n",
       "    <tr>\n",
       "      <th>max</th>\n",
       "      <td>200.000000</td>\n",
       "      <td>174.000000</td>\n",
       "      <td>45.900000</td>\n",
       "      <td>5.210000</td>\n",
       "      <td>105000.00000</td>\n",
       "      <td>884260.000000</td>\n",
       "      <td>31.538462</td>\n",
       "    </tr>\n",
       "  </tbody>\n",
       "</table>\n",
       "</div>"
      ],
      "text/plain": [
       "          exports     imports   inflation   total_fer          gdpp  \\\n",
       "count  133.000000  133.000000  133.000000  133.000000     133.00000   \n",
       "mean    45.542023   49.769668    6.477752    2.321278   16004.12782   \n",
       "std     28.430884   25.976004    7.387570    0.883447   19403.30895   \n",
       "min      0.109000    0.065900   -4.210000    1.150000     327.00000   \n",
       "25%     27.800000   30.800000    1.440000    1.630000    3110.00000   \n",
       "50%     39.700000   48.600000    4.220000    2.140000    7370.00000   \n",
       "75%     54.300000   61.800000    8.920000    2.670000   21100.00000   \n",
       "max    200.000000  174.000000   45.900000    5.210000  105000.00000   \n",
       "\n",
       "       income_and_health  expec_by_mortality  \n",
       "count         133.000000          133.000000  \n",
       "mean       151625.445113            8.228657  \n",
       "std        161509.973547            7.755544  \n",
       "min          7328.400000            0.154327  \n",
       "25%         40976.000000            2.314189  \n",
       "50%         97440.000000            4.883562  \n",
       "75%        204267.000000           12.000000  \n",
       "max        884260.000000           31.538462  "
      ]
     },
     "execution_count": 256,
     "metadata": {},
     "output_type": "execute_result"
    }
   ],
   "source": [
    "df_new.describe()"
   ]
  },
  {
   "cell_type": "markdown",
   "metadata": {},
   "source": [
    "# Comparison of Income and health"
   ]
  },
  {
   "cell_type": "code",
   "execution_count": 257,
   "metadata": {
    "ExecuteTime": {
     "end_time": "2021-11-29T06:54:11.683780Z",
     "start_time": "2021-11-29T06:54:11.667463Z"
    }
   },
   "outputs": [
    {
     "data": {
      "text/html": [
       "<div>\n",
       "<style scoped>\n",
       "    .dataframe tbody tr th:only-of-type {\n",
       "        vertical-align: middle;\n",
       "    }\n",
       "\n",
       "    .dataframe tbody tr th {\n",
       "        vertical-align: top;\n",
       "    }\n",
       "\n",
       "    .dataframe thead th {\n",
       "        text-align: right;\n",
       "    }\n",
       "</style>\n",
       "<table border=\"1\" class=\"dataframe\">\n",
       "  <thead>\n",
       "    <tr style=\"text-align: right;\">\n",
       "      <th></th>\n",
       "      <th>country</th>\n",
       "      <th>exports</th>\n",
       "      <th>imports</th>\n",
       "      <th>inflation</th>\n",
       "      <th>total_fer</th>\n",
       "      <th>gdpp</th>\n",
       "      <th>income_and_health</th>\n",
       "      <th>expec_by_mortality</th>\n",
       "    </tr>\n",
       "  </thead>\n",
       "  <tbody>\n",
       "    <tr>\n",
       "      <th>31</th>\n",
       "      <td>Central African Republic</td>\n",
       "      <td>11.80</td>\n",
       "      <td>26.5</td>\n",
       "      <td>2.010</td>\n",
       "      <td>5.21</td>\n",
       "      <td>446.0</td>\n",
       "      <td>3534.24</td>\n",
       "      <td>0.318792</td>\n",
       "    </tr>\n",
       "    <tr>\n",
       "      <th>50</th>\n",
       "      <td>Eritrea</td>\n",
       "      <td>4.79</td>\n",
       "      <td>23.3</td>\n",
       "      <td>11.600</td>\n",
       "      <td>4.61</td>\n",
       "      <td>482.0</td>\n",
       "      <td>3777.20</td>\n",
       "      <td>1.117754</td>\n",
       "    </tr>\n",
       "    <tr>\n",
       "      <th>112</th>\n",
       "      <td>Niger</td>\n",
       "      <td>22.20</td>\n",
       "      <td>49.1</td>\n",
       "      <td>2.550</td>\n",
       "      <td>7.49</td>\n",
       "      <td>348.0</td>\n",
       "      <td>4200.24</td>\n",
       "      <td>0.478049</td>\n",
       "    </tr>\n",
       "    <tr>\n",
       "      <th>106</th>\n",
       "      <td>Mozambique</td>\n",
       "      <td>31.50</td>\n",
       "      <td>46.2</td>\n",
       "      <td>7.640</td>\n",
       "      <td>5.56</td>\n",
       "      <td>419.0</td>\n",
       "      <td>4782.78</td>\n",
       "      <td>0.539604</td>\n",
       "    </tr>\n",
       "    <tr>\n",
       "      <th>37</th>\n",
       "      <td>Congo, Dem. Rep.</td>\n",
       "      <td>41.10</td>\n",
       "      <td>49.6</td>\n",
       "      <td>20.800</td>\n",
       "      <td>6.54</td>\n",
       "      <td>334.0</td>\n",
       "      <td>4817.19</td>\n",
       "      <td>0.495690</td>\n",
       "    </tr>\n",
       "    <tr>\n",
       "      <th>93</th>\n",
       "      <td>Madagascar</td>\n",
       "      <td>25.00</td>\n",
       "      <td>43.0</td>\n",
       "      <td>8.790</td>\n",
       "      <td>4.60</td>\n",
       "      <td>413.0</td>\n",
       "      <td>5240.30</td>\n",
       "      <td>0.977492</td>\n",
       "    </tr>\n",
       "    <tr>\n",
       "      <th>63</th>\n",
       "      <td>Guinea</td>\n",
       "      <td>30.30</td>\n",
       "      <td>43.2</td>\n",
       "      <td>16.100</td>\n",
       "      <td>5.34</td>\n",
       "      <td>648.0</td>\n",
       "      <td>5866.70</td>\n",
       "      <td>0.532110</td>\n",
       "    </tr>\n",
       "    <tr>\n",
       "      <th>36</th>\n",
       "      <td>Comoros</td>\n",
       "      <td>16.50</td>\n",
       "      <td>51.7</td>\n",
       "      <td>3.870</td>\n",
       "      <td>4.75</td>\n",
       "      <td>769.0</td>\n",
       "      <td>6359.10</td>\n",
       "      <td>0.747166</td>\n",
       "    </tr>\n",
       "    <tr>\n",
       "      <th>94</th>\n",
       "      <td>Malawi</td>\n",
       "      <td>22.80</td>\n",
       "      <td>34.9</td>\n",
       "      <td>12.100</td>\n",
       "      <td>5.31</td>\n",
       "      <td>459.0</td>\n",
       "      <td>6787.70</td>\n",
       "      <td>0.586740</td>\n",
       "    </tr>\n",
       "    <tr>\n",
       "      <th>17</th>\n",
       "      <td>Benin</td>\n",
       "      <td>23.80</td>\n",
       "      <td>37.2</td>\n",
       "      <td>0.885</td>\n",
       "      <td>5.36</td>\n",
       "      <td>758.0</td>\n",
       "      <td>7462.00</td>\n",
       "      <td>0.556757</td>\n",
       "    </tr>\n",
       "    <tr>\n",
       "      <th>32</th>\n",
       "      <td>Chad</td>\n",
       "      <td>36.80</td>\n",
       "      <td>43.5</td>\n",
       "      <td>6.390</td>\n",
       "      <td>6.59</td>\n",
       "      <td>897.0</td>\n",
       "      <td>8742.90</td>\n",
       "      <td>0.376667</td>\n",
       "    </tr>\n",
       "    <tr>\n",
       "      <th>26</th>\n",
       "      <td>Burundi</td>\n",
       "      <td>8.92</td>\n",
       "      <td>39.2</td>\n",
       "      <td>12.300</td>\n",
       "      <td>6.26</td>\n",
       "      <td>231.0</td>\n",
       "      <td>8862.40</td>\n",
       "      <td>0.616453</td>\n",
       "    </tr>\n",
       "  </tbody>\n",
       "</table>\n",
       "</div>"
      ],
      "text/plain": [
       "                      country  exports  imports  inflation  total_fer   gdpp  \\\n",
       "31   Central African Republic    11.80     26.5      2.010       5.21  446.0   \n",
       "50                    Eritrea     4.79     23.3     11.600       4.61  482.0   \n",
       "112                     Niger    22.20     49.1      2.550       7.49  348.0   \n",
       "106                Mozambique    31.50     46.2      7.640       5.56  419.0   \n",
       "37           Congo, Dem. Rep.    41.10     49.6     20.800       6.54  334.0   \n",
       "93                 Madagascar    25.00     43.0      8.790       4.60  413.0   \n",
       "63                     Guinea    30.30     43.2     16.100       5.34  648.0   \n",
       "36                    Comoros    16.50     51.7      3.870       4.75  769.0   \n",
       "94                     Malawi    22.80     34.9     12.100       5.31  459.0   \n",
       "17                      Benin    23.80     37.2      0.885       5.36  758.0   \n",
       "32                       Chad    36.80     43.5      6.390       6.59  897.0   \n",
       "26                    Burundi     8.92     39.2     12.300       6.26  231.0   \n",
       "\n",
       "     income_and_health  expec_by_mortality  \n",
       "31             3534.24            0.318792  \n",
       "50             3777.20            1.117754  \n",
       "112            4200.24            0.478049  \n",
       "106            4782.78            0.539604  \n",
       "37             4817.19            0.495690  \n",
       "93             5240.30            0.977492  \n",
       "63             5866.70            0.532110  \n",
       "36             6359.10            0.747166  \n",
       "94             6787.70            0.586740  \n",
       "17             7462.00            0.556757  \n",
       "32             8742.90            0.376667  \n",
       "26             8862.40            0.616453  "
      ]
     },
     "execution_count": 257,
     "metadata": {},
     "output_type": "execute_result"
    }
   ],
   "source": [
    "df_label.sort_values(\"income_and_health\", ascending=1)[:12]"
   ]
  },
  {
   "cell_type": "code",
   "execution_count": 258,
   "metadata": {
    "ExecuteTime": {
     "end_time": "2021-11-29T06:54:11.918918Z",
     "start_time": "2021-11-29T06:54:11.908600Z"
    }
   },
   "outputs": [
    {
     "name": "stdout",
     "output_type": "stream",
     "text": [
      "Income and Health Statistics \n"
     ]
    },
    {
     "data": {
      "text/plain": [
       "count       133.000000\n",
       "mean     151625.445113\n",
       "std      161509.973547\n",
       "min        7328.400000\n",
       "25%       40976.000000\n",
       "50%       97440.000000\n",
       "75%      204267.000000\n",
       "max      884260.000000\n",
       "Name: income_and_health, dtype: float64"
      ]
     },
     "execution_count": 258,
     "metadata": {},
     "output_type": "execute_result"
    }
   ],
   "source": [
    "print(\"Income and Health Statistics \")\n",
    "df_new.income_and_health.describe()"
   ]
  },
  {
   "cell_type": "markdown",
   "metadata": {},
   "source": [
    "- It is evident that the **income and health product** of the other dataframe that the **countries of this cluster** are very far behind it terms of both **income and health facilities** as the mean income and health of this cluster approximately **10%** of the other countries."
   ]
  },
  {
   "cell_type": "code",
   "execution_count": 259,
   "metadata": {
    "ExecuteTime": {
     "end_time": "2021-11-29T06:54:14.702986Z",
     "start_time": "2021-11-29T06:54:14.693561Z"
    }
   },
   "outputs": [
    {
     "name": "stdout",
     "output_type": "stream",
     "text": [
      "Data is : {'Less than 10%': 25, 'Greater than 10%': 9}\n"
     ]
    }
   ],
   "source": [
    "dat = dict()\n",
    "# get 10% level\n",
    "level = 0.1 * np.mean(df_new.income_and_health)\n",
    "\n",
    "for k in df_label.income_and_health:\n",
    "    if(k < level):\n",
    "        dat['Less than 10%'] = dat.get('Less than 10%', 0) +1\n",
    "    else:\n",
    "        dat['Greater than 10%'] = dat.get('Greater than 10%', 0)+1\n",
    "        \n",
    "print(\"Data is :\",dat)"
   ]
  },
  {
   "cell_type": "code",
   "execution_count": 260,
   "metadata": {
    "ExecuteTime": {
     "end_time": "2021-11-29T06:54:17.974775Z",
     "start_time": "2021-11-29T06:54:17.750001Z"
    },
    "scrolled": true
   },
   "outputs": [
    {
     "data": {
      "image/png": "[encoded data removed]",
      "text/plain": [
       "<Figure size 432x288 with 1 Axes>"
      ]
     },
     "metadata": {
      "needs_background": "light"
     },
     "output_type": "display_data"
    }
   ],
   "source": [
    "plt.bar([0, 0.5], [dat['Less than 10%'], dat['Greater than 10%']],\n",
    "        width=0.2, alpha=0.5, color=['r','b'])\n",
    "plt.xticks([0, 0.5], ['Less than 10%', 'Greater than 10%'])\n",
    "plt.ylabel(\"Number of countries\", fontsize=13)\n",
    "plt.title(\"The distribution of countries on the\\n basis of Income and health\",\n",
    "          fontweight='bold')\n",
    "plt.savefig(r'Final Cluster Histograms/histo_income_health.png', dpi=200)"
   ]
  },
  {
   "cell_type": "markdown",
   "metadata": {},
   "source": [
    "# Comparison of GDP per capita"
   ]
  },
  {
   "cell_type": "code",
   "execution_count": 261,
   "metadata": {
    "ExecuteTime": {
     "end_time": "2021-11-29T06:54:20.560636Z",
     "start_time": "2021-11-29T06:54:20.544577Z"
    }
   },
   "outputs": [
    {
     "data": {
      "text/html": [
       "<div>\n",
       "<style scoped>\n",
       "    .dataframe tbody tr th:only-of-type {\n",
       "        vertical-align: middle;\n",
       "    }\n",
       "\n",
       "    .dataframe tbody tr th {\n",
       "        vertical-align: top;\n",
       "    }\n",
       "\n",
       "    .dataframe thead th {\n",
       "        text-align: right;\n",
       "    }\n",
       "</style>\n",
       "<table border=\"1\" class=\"dataframe\">\n",
       "  <thead>\n",
       "    <tr style=\"text-align: right;\">\n",
       "      <th></th>\n",
       "      <th>country</th>\n",
       "      <th>exports</th>\n",
       "      <th>imports</th>\n",
       "      <th>inflation</th>\n",
       "      <th>total_fer</th>\n",
       "      <th>gdpp</th>\n",
       "      <th>income_and_health</th>\n",
       "      <th>expec_by_mortality</th>\n",
       "    </tr>\n",
       "  </thead>\n",
       "  <tbody>\n",
       "    <tr>\n",
       "      <th>26</th>\n",
       "      <td>Burundi</td>\n",
       "      <td>8.92</td>\n",
       "      <td>39.2</td>\n",
       "      <td>12.30</td>\n",
       "      <td>6.26</td>\n",
       "      <td>231.0</td>\n",
       "      <td>8862.40</td>\n",
       "      <td>0.616453</td>\n",
       "    </tr>\n",
       "    <tr>\n",
       "      <th>37</th>\n",
       "      <td>Congo, Dem. Rep.</td>\n",
       "      <td>41.10</td>\n",
       "      <td>49.6</td>\n",
       "      <td>20.80</td>\n",
       "      <td>6.54</td>\n",
       "      <td>334.0</td>\n",
       "      <td>4817.19</td>\n",
       "      <td>0.495690</td>\n",
       "    </tr>\n",
       "    <tr>\n",
       "      <th>112</th>\n",
       "      <td>Niger</td>\n",
       "      <td>22.20</td>\n",
       "      <td>49.1</td>\n",
       "      <td>2.55</td>\n",
       "      <td>7.49</td>\n",
       "      <td>348.0</td>\n",
       "      <td>4200.24</td>\n",
       "      <td>0.478049</td>\n",
       "    </tr>\n",
       "    <tr>\n",
       "      <th>132</th>\n",
       "      <td>Sierra Leone</td>\n",
       "      <td>16.80</td>\n",
       "      <td>34.5</td>\n",
       "      <td>17.20</td>\n",
       "      <td>5.20</td>\n",
       "      <td>399.0</td>\n",
       "      <td>15982.00</td>\n",
       "      <td>0.343750</td>\n",
       "    </tr>\n",
       "    <tr>\n",
       "      <th>93</th>\n",
       "      <td>Madagascar</td>\n",
       "      <td>25.00</td>\n",
       "      <td>43.0</td>\n",
       "      <td>8.79</td>\n",
       "      <td>4.60</td>\n",
       "      <td>413.0</td>\n",
       "      <td>5240.30</td>\n",
       "      <td>0.977492</td>\n",
       "    </tr>\n",
       "    <tr>\n",
       "      <th>106</th>\n",
       "      <td>Mozambique</td>\n",
       "      <td>31.50</td>\n",
       "      <td>46.2</td>\n",
       "      <td>7.64</td>\n",
       "      <td>5.56</td>\n",
       "      <td>419.0</td>\n",
       "      <td>4782.78</td>\n",
       "      <td>0.539604</td>\n",
       "    </tr>\n",
       "    <tr>\n",
       "      <th>31</th>\n",
       "      <td>Central African Republic</td>\n",
       "      <td>11.80</td>\n",
       "      <td>26.5</td>\n",
       "      <td>2.01</td>\n",
       "      <td>5.21</td>\n",
       "      <td>446.0</td>\n",
       "      <td>3534.24</td>\n",
       "      <td>0.318792</td>\n",
       "    </tr>\n",
       "    <tr>\n",
       "      <th>94</th>\n",
       "      <td>Malawi</td>\n",
       "      <td>22.80</td>\n",
       "      <td>34.9</td>\n",
       "      <td>12.10</td>\n",
       "      <td>5.31</td>\n",
       "      <td>459.0</td>\n",
       "      <td>6787.70</td>\n",
       "      <td>0.586740</td>\n",
       "    </tr>\n",
       "    <tr>\n",
       "      <th>50</th>\n",
       "      <td>Eritrea</td>\n",
       "      <td>4.79</td>\n",
       "      <td>23.3</td>\n",
       "      <td>11.60</td>\n",
       "      <td>4.61</td>\n",
       "      <td>482.0</td>\n",
       "      <td>3777.20</td>\n",
       "      <td>1.117754</td>\n",
       "    </tr>\n",
       "    <tr>\n",
       "      <th>64</th>\n",
       "      <td>Guinea-Bissau</td>\n",
       "      <td>14.90</td>\n",
       "      <td>35.2</td>\n",
       "      <td>2.97</td>\n",
       "      <td>5.05</td>\n",
       "      <td>547.0</td>\n",
       "      <td>11815.00</td>\n",
       "      <td>0.487719</td>\n",
       "    </tr>\n",
       "    <tr>\n",
       "      <th>0</th>\n",
       "      <td>Afghanistan</td>\n",
       "      <td>10.00</td>\n",
       "      <td>44.9</td>\n",
       "      <td>9.44</td>\n",
       "      <td>5.82</td>\n",
       "      <td>553.0</td>\n",
       "      <td>12203.80</td>\n",
       "      <td>0.623060</td>\n",
       "    </tr>\n",
       "    <tr>\n",
       "      <th>56</th>\n",
       "      <td>Gambia</td>\n",
       "      <td>23.80</td>\n",
       "      <td>42.7</td>\n",
       "      <td>4.30</td>\n",
       "      <td>5.71</td>\n",
       "      <td>562.0</td>\n",
       "      <td>9445.40</td>\n",
       "      <td>0.815691</td>\n",
       "    </tr>\n",
       "    <tr>\n",
       "      <th>126</th>\n",
       "      <td>Rwanda</td>\n",
       "      <td>12.00</td>\n",
       "      <td>30.0</td>\n",
       "      <td>2.61</td>\n",
       "      <td>4.51</td>\n",
       "      <td>563.0</td>\n",
       "      <td>14175.00</td>\n",
       "      <td>1.015723</td>\n",
       "    </tr>\n",
       "    <tr>\n",
       "      <th>25</th>\n",
       "      <td>Burkina Faso</td>\n",
       "      <td>19.20</td>\n",
       "      <td>29.6</td>\n",
       "      <td>6.81</td>\n",
       "      <td>5.87</td>\n",
       "      <td>575.0</td>\n",
       "      <td>9638.20</td>\n",
       "      <td>0.499138</td>\n",
       "    </tr>\n",
       "    <tr>\n",
       "      <th>155</th>\n",
       "      <td>Uganda</td>\n",
       "      <td>17.10</td>\n",
       "      <td>28.6</td>\n",
       "      <td>10.60</td>\n",
       "      <td>6.15</td>\n",
       "      <td>595.0</td>\n",
       "      <td>13875.40</td>\n",
       "      <td>0.701235</td>\n",
       "    </tr>\n",
       "  </tbody>\n",
       "</table>\n",
       "</div>"
      ],
      "text/plain": [
       "                      country  exports  imports  inflation  total_fer   gdpp  \\\n",
       "26                    Burundi     8.92     39.2      12.30       6.26  231.0   \n",
       "37           Congo, Dem. Rep.    41.10     49.6      20.80       6.54  334.0   \n",
       "112                     Niger    22.20     49.1       2.55       7.49  348.0   \n",
       "132              Sierra Leone    16.80     34.5      17.20       5.20  399.0   \n",
       "93                 Madagascar    25.00     43.0       8.79       4.60  413.0   \n",
       "106                Mozambique    31.50     46.2       7.64       5.56  419.0   \n",
       "31   Central African Republic    11.80     26.5       2.01       5.21  446.0   \n",
       "94                     Malawi    22.80     34.9      12.10       5.31  459.0   \n",
       "50                    Eritrea     4.79     23.3      11.60       4.61  482.0   \n",
       "64              Guinea-Bissau    14.90     35.2       2.97       5.05  547.0   \n",
       "0                 Afghanistan    10.00     44.9       9.44       5.82  553.0   \n",
       "56                     Gambia    23.80     42.7       4.30       5.71  562.0   \n",
       "126                    Rwanda    12.00     30.0       2.61       4.51  563.0   \n",
       "25               Burkina Faso    19.20     29.6       6.81       5.87  575.0   \n",
       "155                    Uganda    17.10     28.6      10.60       6.15  595.0   \n",
       "\n",
       "     income_and_health  expec_by_mortality  \n",
       "26             8862.40            0.616453  \n",
       "37             4817.19            0.495690  \n",
       "112            4200.24            0.478049  \n",
       "132           15982.00            0.343750  \n",
       "93             5240.30            0.977492  \n",
       "106            4782.78            0.539604  \n",
       "31             3534.24            0.318792  \n",
       "94             6787.70            0.586740  \n",
       "50             3777.20            1.117754  \n",
       "64            11815.00            0.487719  \n",
       "0             12203.80            0.623060  \n",
       "56             9445.40            0.815691  \n",
       "126           14175.00            1.015723  \n",
       "25             9638.20            0.499138  \n",
       "155           13875.40            0.701235  "
      ]
     },
     "execution_count": 261,
     "metadata": {},
     "output_type": "execute_result"
    }
   ],
   "source": [
    "df_label.sort_values(\"gdpp\", ascending=True)[:15]"
   ]
  },
  {
   "cell_type": "code",
   "execution_count": 262,
   "metadata": {
    "ExecuteTime": {
     "end_time": "2021-11-29T06:54:21.074968Z",
     "start_time": "2021-11-29T06:54:21.065030Z"
    }
   },
   "outputs": [
    {
     "name": "stdout",
     "output_type": "stream",
     "text": [
      "GDP per capita statistics\n"
     ]
    },
    {
     "data": {
      "text/plain": [
       "count       133.00000\n",
       "mean      16004.12782\n",
       "std       19403.30895\n",
       "min         327.00000\n",
       "25%        3110.00000\n",
       "50%        7370.00000\n",
       "75%       21100.00000\n",
       "max      105000.00000\n",
       "Name: gdpp, dtype: float64"
      ]
     },
     "execution_count": 262,
     "metadata": {},
     "output_type": "execute_result"
    }
   ],
   "source": [
    "print(\"GDP per capita statistics\")\n",
    "(df_new.gdpp.describe())"
   ]
  },
  {
   "cell_type": "markdown",
   "metadata": {},
   "source": [
    "- The above statistic is derived from the **other dataframe** and highlights the **enormous disparity** between countries **in the cluster and other countries on average.**\n",
    "- The mean for this dataset is **$16738$** and approximately 42 countries have a GDPP below the 10% mark of the meanother countries"
   ]
  },
  {
   "cell_type": "code",
   "execution_count": 263,
   "metadata": {
    "ExecuteTime": {
     "end_time": "2021-11-29T06:54:33.328214Z",
     "start_time": "2021-11-29T06:54:33.318987Z"
    }
   },
   "outputs": [
    {
     "name": "stdout",
     "output_type": "stream",
     "text": [
      "Data is : {'Less than 10%': 30, 'Greater than 10%': 4}\n"
     ]
    }
   ],
   "source": [
    "dat = dict()\n",
    "\n",
    "level = 0.1 * df_new.gdpp.mean()\n",
    "for k in df_label.gdpp:\n",
    "    if(k < level):\n",
    "        dat['Less than 10%'] = dat.get('Less than 10%', 0)+1\n",
    "    else:\n",
    "        dat['Greater than 10%'] = dat.get('Greater than 10%', 0)+1\n",
    "        \n",
    "print(\"Data is :\",dat)"
   ]
  },
  {
   "cell_type": "code",
   "execution_count": 264,
   "metadata": {
    "ExecuteTime": {
     "end_time": "2021-11-29T06:54:34.999833Z",
     "start_time": "2021-11-29T06:54:34.802772Z"
    }
   },
   "outputs": [
    {
     "data": {
      "image/png": "[encoded data removed]",
      "text/plain": [
       "<Figure size 432x288 with 1 Axes>"
      ]
     },
     "metadata": {
      "needs_background": "light"
     },
     "output_type": "display_data"
    }
   ],
   "source": [
    "plt.bar([0, 0.5], [dat['Less than 10%'], dat['Greater than 10%']],\n",
    "        width=0.2, alpha=0.5, color=['r', 'g'])\n",
    "plt.xticks([0, 0.5], ['Less than 10%', 'Greater than 10%'])\n",
    "plt.ylabel(\"Number of countries\", fontsize=13)\n",
    "plt.title(\"The distribution of countries on the\\n basis of GDP per capita\",\n",
    "          fontweight='bold')\n",
    "plt.savefig(r'Final Cluster Histograms/histo_GDPp.png', dpi=200)"
   ]
  },
  {
   "cell_type": "markdown",
   "metadata": {},
   "source": [
    "# Comparison of Life expectancy and Child Mortality Rate"
   ]
  },
  {
   "cell_type": "code",
   "execution_count": 265,
   "metadata": {
    "ExecuteTime": {
     "end_time": "2021-11-29T06:54:37.896840Z",
     "start_time": "2021-11-29T06:54:37.845100Z"
    }
   },
   "outputs": [
    {
     "data": {
      "text/html": [
       "<div>\n",
       "<style scoped>\n",
       "    .dataframe tbody tr th:only-of-type {\n",
       "        vertical-align: middle;\n",
       "    }\n",
       "\n",
       "    .dataframe tbody tr th {\n",
       "        vertical-align: top;\n",
       "    }\n",
       "\n",
       "    .dataframe thead th {\n",
       "        text-align: right;\n",
       "    }\n",
       "</style>\n",
       "<table border=\"1\" class=\"dataframe\">\n",
       "  <thead>\n",
       "    <tr style=\"text-align: right;\">\n",
       "      <th></th>\n",
       "      <th>country</th>\n",
       "      <th>exports</th>\n",
       "      <th>imports</th>\n",
       "      <th>inflation</th>\n",
       "      <th>total_fer</th>\n",
       "      <th>gdpp</th>\n",
       "      <th>income_and_health</th>\n",
       "      <th>expec_by_mortality</th>\n",
       "    </tr>\n",
       "  </thead>\n",
       "  <tbody>\n",
       "    <tr>\n",
       "      <th>31</th>\n",
       "      <td>Central African Republic</td>\n",
       "      <td>11.8</td>\n",
       "      <td>26.5</td>\n",
       "      <td>2.01</td>\n",
       "      <td>5.21</td>\n",
       "      <td>446.0</td>\n",
       "      <td>3534.24</td>\n",
       "      <td>0.318792</td>\n",
       "    </tr>\n",
       "    <tr>\n",
       "      <th>132</th>\n",
       "      <td>Sierra Leone</td>\n",
       "      <td>16.8</td>\n",
       "      <td>34.5</td>\n",
       "      <td>17.20</td>\n",
       "      <td>5.20</td>\n",
       "      <td>399.0</td>\n",
       "      <td>15982.00</td>\n",
       "      <td>0.343750</td>\n",
       "    </tr>\n",
       "    <tr>\n",
       "      <th>32</th>\n",
       "      <td>Chad</td>\n",
       "      <td>36.8</td>\n",
       "      <td>43.5</td>\n",
       "      <td>6.39</td>\n",
       "      <td>6.59</td>\n",
       "      <td>897.0</td>\n",
       "      <td>8742.90</td>\n",
       "      <td>0.376667</td>\n",
       "    </tr>\n",
       "    <tr>\n",
       "      <th>97</th>\n",
       "      <td>Mali</td>\n",
       "      <td>22.8</td>\n",
       "      <td>35.1</td>\n",
       "      <td>4.37</td>\n",
       "      <td>6.55</td>\n",
       "      <td>708.0</td>\n",
       "      <td>9312.60</td>\n",
       "      <td>0.434307</td>\n",
       "    </tr>\n",
       "    <tr>\n",
       "      <th>113</th>\n",
       "      <td>Nigeria</td>\n",
       "      <td>25.3</td>\n",
       "      <td>17.4</td>\n",
       "      <td>104.00</td>\n",
       "      <td>5.84</td>\n",
       "      <td>2330.0</td>\n",
       "      <td>26110.50</td>\n",
       "      <td>0.465385</td>\n",
       "    </tr>\n",
       "    <tr>\n",
       "      <th>112</th>\n",
       "      <td>Niger</td>\n",
       "      <td>22.2</td>\n",
       "      <td>49.1</td>\n",
       "      <td>2.55</td>\n",
       "      <td>7.49</td>\n",
       "      <td>348.0</td>\n",
       "      <td>4200.24</td>\n",
       "      <td>0.478049</td>\n",
       "    </tr>\n",
       "    <tr>\n",
       "      <th>64</th>\n",
       "      <td>Guinea-Bissau</td>\n",
       "      <td>14.9</td>\n",
       "      <td>35.2</td>\n",
       "      <td>2.97</td>\n",
       "      <td>5.05</td>\n",
       "      <td>547.0</td>\n",
       "      <td>11815.00</td>\n",
       "      <td>0.487719</td>\n",
       "    </tr>\n",
       "    <tr>\n",
       "      <th>37</th>\n",
       "      <td>Congo, Dem. Rep.</td>\n",
       "      <td>41.1</td>\n",
       "      <td>49.6</td>\n",
       "      <td>20.80</td>\n",
       "      <td>6.54</td>\n",
       "      <td>334.0</td>\n",
       "      <td>4817.19</td>\n",
       "      <td>0.495690</td>\n",
       "    </tr>\n",
       "    <tr>\n",
       "      <th>25</th>\n",
       "      <td>Burkina Faso</td>\n",
       "      <td>19.2</td>\n",
       "      <td>29.6</td>\n",
       "      <td>6.81</td>\n",
       "      <td>5.87</td>\n",
       "      <td>575.0</td>\n",
       "      <td>9638.20</td>\n",
       "      <td>0.499138</td>\n",
       "    </tr>\n",
       "    <tr>\n",
       "      <th>3</th>\n",
       "      <td>Angola</td>\n",
       "      <td>62.3</td>\n",
       "      <td>42.9</td>\n",
       "      <td>22.40</td>\n",
       "      <td>6.16</td>\n",
       "      <td>3530.0</td>\n",
       "      <td>16815.00</td>\n",
       "      <td>0.505042</td>\n",
       "    </tr>\n",
       "    <tr>\n",
       "      <th>40</th>\n",
       "      <td>Cote d'Ivoire</td>\n",
       "      <td>50.6</td>\n",
       "      <td>43.3</td>\n",
       "      <td>5.39</td>\n",
       "      <td>5.27</td>\n",
       "      <td>1220.0</td>\n",
       "      <td>14257.00</td>\n",
       "      <td>0.507207</td>\n",
       "    </tr>\n",
       "    <tr>\n",
       "      <th>28</th>\n",
       "      <td>Cameroon</td>\n",
       "      <td>22.2</td>\n",
       "      <td>27.0</td>\n",
       "      <td>1.91</td>\n",
       "      <td>5.11</td>\n",
       "      <td>1310.0</td>\n",
       "      <td>13645.80</td>\n",
       "      <td>0.530556</td>\n",
       "    </tr>\n",
       "  </tbody>\n",
       "</table>\n",
       "</div>"
      ],
      "text/plain": [
       "                      country  exports  imports  inflation  total_fer    gdpp  \\\n",
       "31   Central African Republic     11.8     26.5       2.01       5.21   446.0   \n",
       "132              Sierra Leone     16.8     34.5      17.20       5.20   399.0   \n",
       "32                       Chad     36.8     43.5       6.39       6.59   897.0   \n",
       "97                       Mali     22.8     35.1       4.37       6.55   708.0   \n",
       "113                   Nigeria     25.3     17.4     104.00       5.84  2330.0   \n",
       "112                     Niger     22.2     49.1       2.55       7.49   348.0   \n",
       "64              Guinea-Bissau     14.9     35.2       2.97       5.05   547.0   \n",
       "37           Congo, Dem. Rep.     41.1     49.6      20.80       6.54   334.0   \n",
       "25               Burkina Faso     19.2     29.6       6.81       5.87   575.0   \n",
       "3                      Angola     62.3     42.9      22.40       6.16  3530.0   \n",
       "40              Cote d'Ivoire     50.6     43.3       5.39       5.27  1220.0   \n",
       "28                   Cameroon     22.2     27.0       1.91       5.11  1310.0   \n",
       "\n",
       "     income_and_health  expec_by_mortality  \n",
       "31             3534.24            0.318792  \n",
       "132           15982.00            0.343750  \n",
       "32             8742.90            0.376667  \n",
       "97             9312.60            0.434307  \n",
       "113           26110.50            0.465385  \n",
       "112            4200.24            0.478049  \n",
       "64            11815.00            0.487719  \n",
       "37             4817.19            0.495690  \n",
       "25             9638.20            0.499138  \n",
       "3             16815.00            0.505042  \n",
       "40            14257.00            0.507207  \n",
       "28            13645.80            0.530556  "
      ]
     },
     "execution_count": 265,
     "metadata": {},
     "output_type": "execute_result"
    }
   ],
   "source": [
    "df_label.sort_values('expec_by_mortality')[:12]"
   ]
  },
  {
   "cell_type": "code",
   "execution_count": 266,
   "metadata": {
    "ExecuteTime": {
     "end_time": "2021-11-29T06:54:38.313285Z",
     "start_time": "2021-11-29T06:54:38.293610Z"
    }
   },
   "outputs": [
    {
     "name": "stdout",
     "output_type": "stream",
     "text": [
      "Fertility Rate Statistics\n",
      "\n"
     ]
    },
    {
     "data": {
      "text/plain": [
       "count    133.000000\n",
       "mean       8.228657\n",
       "std        7.755544\n",
       "min        0.154327\n",
       "25%        2.314189\n",
       "50%        4.883562\n",
       "75%       12.000000\n",
       "max       31.538462\n",
       "Name: expec_by_mortality, dtype: float64"
      ]
     },
     "execution_count": 266,
     "metadata": {},
     "output_type": "execute_result"
    }
   ],
   "source": [
    "print(\"Fertility Rate Statistics\\n\")\n",
    "(df_new.expec_by_mortality.describe())"
   ]
  },
  {
   "cell_type": "markdown",
   "metadata": {},
   "source": [
    "- Again, the statistic derived from the **other dataframe** clearly highlights the differences in **Fertility in females and Child Mortality Rate** amongst the **clustered countries** and the **other countries**.\n",
    "- From the data frame it is clear that the countries of this cluster is **10 times higher than the other countries**.\n",
    "- It further strengthens the conclusion that these are the countries in **need of external help**"
   ]
  },
  {
   "cell_type": "code",
   "execution_count": 267,
   "metadata": {
    "ExecuteTime": {
     "end_time": "2021-11-29T06:54:52.509022Z",
     "start_time": "2021-11-29T06:54:52.494613Z"
    }
   },
   "outputs": [
    {
     "name": "stdout",
     "output_type": "stream",
     "text": [
      "Data is : {'Less than 10%': 23, 'Greater than 10%': 11}\n"
     ]
    }
   ],
   "source": [
    "dat = dict()\n",
    "\n",
    "level = 0.1 * df_new.expec_by_mortality.mean()\n",
    "\n",
    "for k in df_label.expec_by_mortality:\n",
    "    if(k < level):\n",
    "        dat['Less than 10%'] = dat.get('Less than 10%', 0)+1\n",
    "    else:\n",
    "        dat['Greater than 10%'] = dat.get('Greater than 10%', 0)+1\n",
    "        \n",
    "print(\"Data is :\",dat)"
   ]
  },
  {
   "cell_type": "code",
   "execution_count": 268,
   "metadata": {
    "ExecuteTime": {
     "end_time": "2021-11-29T06:54:55.205125Z",
     "start_time": "2021-11-29T06:54:54.963444Z"
    }
   },
   "outputs": [
    {
     "data": {
      "image/png": "[encoded data removed]",
      "text/plain": [
       "<Figure size 432x288 with 1 Axes>"
      ]
     },
     "metadata": {
      "needs_background": "light"
     },
     "output_type": "display_data"
    }
   ],
   "source": [
    "plt.bar([0, 0.5], [dat['Less than 10%'], dat['Greater than 10%']],\n",
    "        width=0.2, alpha=0.5, color=['r', 'c'])\n",
    "\n",
    "plt.xticks([0, 0.5],\n",
    "           ['Less than 10%', 'Greater than 10%'])\n",
    "plt.ylabel(\"Number of countries\", fontsize=13)\n",
    "plt.title(\"The distribution of countries on the\\n basis of Life expectancy and Child Mortality\", fontweight='bold')\n",
    "plt.savefig(r'Final Cluster Histograms/histo_expec_and_mortality.png', dpi=200)"
   ]
  },
  {
   "cell_type": "markdown",
   "metadata": {},
   "source": [
    "## Shortlisting countries from dataset.\n",
    "- Countries are shortlisted according to the above three classifiers and then the top **10** countries are extracted from each metric.\n",
    "- Then, the union of these **counrty lists** provide the most **in need countries from the dataset**"
   ]
  },
  {
   "cell_type": "code",
   "execution_count": 269,
   "metadata": {
    "ExecuteTime": {
     "end_time": "2021-11-29T06:55:01.404577Z",
     "start_time": "2021-11-29T06:55:01.389315Z"
    },
    "code_folding": []
   },
   "outputs": [],
   "source": [
    "inc_h = list(df_label.sort_values(\"income_and_health\").country[:10])\n",
    "gdp_p = list(df_label.sort_values(\"gdpp\").country[:10])\n",
    "expec_mort = list(df_label.sort_values(\n",
    "    \"expec_by_mortality\").country[:10])"
   ]
  },
  {
   "cell_type": "code",
   "execution_count": 270,
   "metadata": {
    "ExecuteTime": {
     "end_time": "2021-11-29T06:55:02.484587Z",
     "start_time": "2021-11-29T06:55:02.469859Z"
    }
   },
   "outputs": [
    {
     "name": "stdout",
     "output_type": "stream",
     "text": [
      "Based on income and health: ['Central African Republic', 'Eritrea', 'Niger', 'Mozambique', 'Congo, Dem. Rep.', 'Madagascar', 'Guinea', 'Comoros', 'Malawi', 'Benin'] \n",
      "\n",
      "Based on GDP per capita : ['Burundi', 'Congo, Dem. Rep.', 'Niger', 'Sierra Leone', 'Madagascar', 'Mozambique', 'Central African Republic', 'Malawi', 'Eritrea', 'Guinea-Bissau'] \n",
      "\n",
      "Based on life expec by mortality : ['Central African Republic', 'Sierra Leone', 'Chad', 'Mali', 'Nigeria', 'Niger', 'Guinea-Bissau', 'Congo, Dem. Rep.', 'Burkina Faso', 'Angola']\n"
     ]
    }
   ],
   "source": [
    "print(\"Based on income and health:\", inc_h, \"\\n\")\n",
    "print(\"Based on GDP per capita :\", gdp_p, \"\\n\")\n",
    "print(\"Based on life expec by mortality :\", expec_mort)"
   ]
  },
  {
   "cell_type": "markdown",
   "metadata": {},
   "source": [
    "## Top 2 Countries of each category\n",
    " - INCOME AND HEALTH - **'Central African Republic', 'Eritrea'**\n",
    " - GDP per capita - **'Burundi', 'Liberia'**\n",
    " - Fertility and Mortality - **'Solomon Islands', 'Vanuatu'**"
   ]
  },
  {
   "cell_type": "code",
   "execution_count": 271,
   "metadata": {
    "ExecuteTime": {
     "end_time": "2021-11-29T06:55:04.884289Z",
     "start_time": "2021-11-29T06:55:04.878318Z"
    }
   },
   "outputs": [],
   "source": [
    "final_list = list(set().union(inc_h, gdp_p, expec_mort))"
   ]
  },
  {
   "cell_type": "code",
   "execution_count": 272,
   "metadata": {
    "ExecuteTime": {
     "end_time": "2021-11-29T06:55:05.288534Z",
     "start_time": "2021-11-29T06:55:05.281201Z"
    }
   },
   "outputs": [
    {
     "data": {
      "text/plain": [
       "['Comoros',\n",
       " 'Angola',\n",
       " 'Congo, Dem. Rep.',\n",
       " 'Burundi',\n",
       " 'Madagascar',\n",
       " 'Guinea',\n",
       " 'Central African Republic',\n",
       " 'Mali',\n",
       " 'Malawi',\n",
       " 'Mozambique',\n",
       " 'Chad',\n",
       " 'Sierra Leone',\n",
       " 'Niger',\n",
       " 'Burkina Faso',\n",
       " 'Benin',\n",
       " 'Nigeria',\n",
       " 'Eritrea',\n",
       " 'Guinea-Bissau']"
      ]
     },
     "execution_count": 272,
     "metadata": {},
     "output_type": "execute_result"
    }
   ],
   "source": [
    "final_list"
   ]
  },
  {
   "cell_type": "code",
   "execution_count": null,
   "metadata": {
    "ExecuteTime": {
     "start_time": "2021-11-29T07:01:30.916Z"
    }
   },
   "outputs": [],
   "source": [
    "!git status"
   ]
  },
  {
   "cell_type": "code",
   "execution_count": null,
   "metadata": {},
   "outputs": [],
   "source": []
  }
 ],
 "metadata": {
  "kernelspec": {
   "display_name": "Python 3",
   "language": "python",
   "name": "python3"
  },
  "language_info": {
   "codemirror_mode": {
    "name": "ipython",
    "version": 3
   },
   "file_extension": ".py",
   "mimetype": "text/x-python",
   "name": "python",
   "nbconvert_exporter": "python",
   "pygments_lexer": "ipython3",
   "version": "3.8.8"
  }
 },
 "nbformat": 4,
 "nbformat_minor": 2
}
